{
 "cells": [
  {
   "cell_type": "markdown",
   "metadata": {},
   "source": [
    "# IRIS Flower classification"
   ]
  },
  {
   "cell_type": "markdown",
   "metadata": {},
   "source": [
    "Step 1: Loading and preparing the data for training"
   ]
  },
  {
   "cell_type": "code",
   "execution_count": 43,
   "metadata": {},
   "outputs": [
    {
     "name": "stdout",
     "output_type": "stream",
     "text": [
      "tensor([[ 0.5883,  0.0789, -1.2458, -1.6534],\n",
      "        [ 1.1488,  0.4864, -0.9910, -1.5515]])\n",
      "tensor([0, 0])\n"
     ]
    }
   ],
   "source": [
    "from sklearn.datasets import load_iris\n",
    "from sklearn.model_selection import train_test_split\n",
    "import numpy as np\n",
    "import torch\n",
    "from torch.utils.data import TensorDataset, DataLoader\n",
    "\n",
    "iris = load_iris()\n",
    "X = iris.data\n",
    "y = iris.target\n",
    "\n",
    "X_train, X_test, y_train, y_test = train_test_split(X, y, test_size=0.2, random_state=42)\n",
    "\n",
    "# Normalize the data\n",
    "x_norm = (X_train - np.mean(X_train)) / np.std(X_train)\n",
    "x_train = torch.from_numpy(x_norm).float()\n",
    "y_train = torch.from_numpy(y_train)\n",
    "\n",
    "train_data = DataLoader(TensorDataset(x_train, y_train), batch_size=2)\n",
    "\n",
    "for x, y in train_data:\n",
    "    print(x)\n",
    "    print(y)\n",
    "    break"
   ]
  },
  {
   "cell_type": "markdown",
   "metadata": {},
   "source": [
    "Step 2: Define the model architecture"
   ]
  },
  {
   "cell_type": "code",
   "execution_count": 44,
   "metadata": {},
   "outputs": [],
   "source": [
    "import torch.nn as nn\n",
    "\n",
    "class NeuralNetwork(nn.Module):\n",
    "    def __init__(self,in_size,hid_size,out_size):\n",
    "        super().__init__()\n",
    "        self.layer1 = nn.Linear(in_size,hid_size)\n",
    "        self.layer2 = nn.Linear(hid_size,out_size)\n",
    "\n",
    "    def forward(self,x):\n",
    "        x = self.layer1(x)\n",
    "        x = nn.Sigmoid()(x)\n",
    "        x = self.layer2(x)\n",
    "        return nn.Softmax(dim=1)(x)\n",
    "\n",
    "input_size = x_train.shape[1]\n",
    "hidden_size = 16\n",
    "output_size = 3\n",
    "\n",
    "model = NeuralNetwork(input_size,hidden_size,output_size)    \n",
    "loss_fn = nn.CrossEntropyLoss()\n",
    "optim = torch.optim.Adam(model.parameters(), lr=0.01)\n"
   ]
  },
  {
   "cell_type": "markdown",
   "metadata": {},
   "source": [
    "Step 3: Train the model"
   ]
  },
  {
   "cell_type": "code",
   "execution_count": 45,
   "metadata": {},
   "outputs": [
    {
     "name": "stdout",
     "output_type": "stream",
     "text": [
      "loss: [2.125301929314931, 1.8207670172055563, 1.6377172271410625, 1.532715340455373, 1.4467649400234222, 1.3817280153433482, 1.335774431626002, 1.303670992453893, 1.2808169682820638, 1.264046130577723]\n",
      "accuracy: [0.7666666666666667, 1.5, 1.6, 1.8666666666666667, 1.9166666666666667, 1.8833333333333333, 1.9166666666666667, 1.9166666666666667, 1.9166666666666667, 1.9166666666666667]\n"
     ]
    }
   ],
   "source": [
    "from matplotlib.pylab import f\n",
    "\n",
    "\n",
    "epoches = 10\n",
    "loss_hist = [0] * epoches\n",
    "correct = [0] * epoches\n",
    "\n",
    "for epoch in range(epoches):\n",
    "    for x, y in train_data:\n",
    "\n",
    "        output = model(x)\n",
    "        loss = loss_fn(output, y)\n",
    "\n",
    "        loss.backward()\n",
    "        optim.step()\n",
    "        optim.zero_grad()\n",
    "\n",
    "        # calculate accuracy and loss\n",
    "        loss_hist[epoch] += loss.item() * y.shape[0]\n",
    "        is_correct = (torch.argmax(output, dim=1) == y).float()\n",
    "        correct[epoch] += is_correct.sum().item()\n",
    "    \n",
    "    loss_hist[epoch] /= len(train_data)\n",
    "    correct[epoch] /= len(train_data)\n",
    "\n",
    "print(f\"loss: {loss_hist}\")\n",
    "print(f\"accuracy: {correct}\")"
   ]
  },
  {
   "cell_type": "markdown",
   "metadata": {},
   "source": [
    "Step 4: Evaluate the model on the Test data"
   ]
  },
  {
   "cell_type": "code",
   "execution_count": 46,
   "metadata": {},
   "outputs": [
    {
     "name": "stdout",
     "output_type": "stream",
     "text": [
      "loss: 0.6167417168617249\n"
     ]
    }
   ],
   "source": [
    "x_test = torch.from_numpy((X_test - np.mean(X_test)) / np.std(X_test)).float()\n",
    "y_test = torch.from_numpy(y_test)\n",
    "\n",
    "output = model(x_test)\n",
    "loss = loss_fn(output, y_test)\n",
    "print(f\"loss: {loss}\")"
   ]
  }
 ],
 "metadata": {
  "kernelspec": {
   "display_name": ".venv",
   "language": "python",
   "name": "python3"
  },
  "language_info": {
   "codemirror_mode": {
    "name": "ipython",
    "version": 3
   },
   "file_extension": ".py",
   "mimetype": "text/x-python",
   "name": "python",
   "nbconvert_exporter": "python",
   "pygments_lexer": "ipython3",
   "version": "3.10.12"
  }
 },
 "nbformat": 4,
 "nbformat_minor": 2
}
