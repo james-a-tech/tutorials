{
 "cells": [
  {
   "cell_type": "markdown",
   "metadata": {},
   "source": [
    "# Perceptron unable to fit XOR table "
   ]
  },
  {
   "cell_type": "code",
   "execution_count": 2,
   "metadata": {},
   "outputs": [
    {
     "data": {
      "text/html": [
       "<div>\n",
       "<style scoped>\n",
       "    .dataframe tbody tr th:only-of-type {\n",
       "        vertical-align: middle;\n",
       "    }\n",
       "\n",
       "    .dataframe tbody tr th {\n",
       "        vertical-align: top;\n",
       "    }\n",
       "\n",
       "    .dataframe thead th {\n",
       "        text-align: right;\n",
       "    }\n",
       "</style>\n",
       "<table border=\"1\" class=\"dataframe\">\n",
       "  <thead>\n",
       "    <tr style=\"text-align: right;\">\n",
       "      <th></th>\n",
       "      <th>x1</th>\n",
       "      <th>x2</th>\n",
       "      <th>y</th>\n",
       "    </tr>\n",
       "  </thead>\n",
       "  <tbody>\n",
       "    <tr>\n",
       "      <th>0</th>\n",
       "      <td>0</td>\n",
       "      <td>0</td>\n",
       "      <td>0</td>\n",
       "    </tr>\n",
       "    <tr>\n",
       "      <th>1</th>\n",
       "      <td>0</td>\n",
       "      <td>1</td>\n",
       "      <td>1</td>\n",
       "    </tr>\n",
       "    <tr>\n",
       "      <th>2</th>\n",
       "      <td>1</td>\n",
       "      <td>0</td>\n",
       "      <td>1</td>\n",
       "    </tr>\n",
       "    <tr>\n",
       "      <th>3</th>\n",
       "      <td>1</td>\n",
       "      <td>1</td>\n",
       "      <td>0</td>\n",
       "    </tr>\n",
       "  </tbody>\n",
       "</table>\n",
       "</div>"
      ],
      "text/plain": [
       "   x1  x2  y\n",
       "0   0   0  0\n",
       "1   0   1  1\n",
       "2   1   0  1\n",
       "3   1   1  0"
      ]
     },
     "execution_count": 2,
     "metadata": {},
     "output_type": "execute_result"
    }
   ],
   "source": [
    "import numpy as np\n",
    "weights = np.array([0.5,0.48,-0.7])\n",
    "alpha = 0.1\n",
    "\n",
    "inputs = np.array([[ 0, 0],\n",
    "                    [ 0, 1],\n",
    "                    [ 1, 0],\n",
    "                    [ 1, 1] ] )\n",
    "ouputs = np.array( [ 0, 1, 1, 0  ] )\n",
    "\n",
    "import pandas as pd\n",
    "# create dataframe using streetlights and walk_vs_stop\n",
    "df = pd.DataFrame({\n",
    "    'x1': inputs[:, 0],\n",
    "    'x2': inputs[:, 1],\n",
    "    'y': ouputs\n",
    "})\n",
    "df"
   ]
  },
  {
   "cell_type": "code",
   "execution_count": 2,
   "metadata": {
    "tags": []
   },
   "outputs": [
    {
     "data": {
      "application/vnd.jupyter.widget-view+json": {
       "model_id": "5824ca157ab44461b1665b90c2b95133",
       "version_major": 2,
       "version_minor": 0
      },
      "text/plain": [
       "FigureWidget({\n",
       "    'data': [{'marker': {'color': array([0, 1, 1, 0]),\n",
       "                         'colorscale': [[0.0, '#440154'], [0.1111111111111111,\n",
       "                                        '#482878'], [0.2222222222222222,\n",
       "                                        '#3e4989'], [0.3333333333333333,\n",
       "                                        '#31688e'], [0.4444444444444444,\n",
       "                                        '#26828e'], [0.5555555555555556,\n",
       "                                        '#1f9e89'], [0.6666666666666666,\n",
       "                                        '#35b779'], [0.7777777777777778,\n",
       "                                        '#6ece58'], [0.8888888888888888,\n",
       "                                        '#b5de2b'], [1.0, '#fde725']]},\n",
       "              'mode': 'markers',\n",
       "              'type': 'scatter',\n",
       "              'uid': 'ae3aa336-ccd9-48e7-8c14-50d7426e0d18',\n",
       "              'x': array([0, 1, 0, 1]),\n",
       "              'y': array([0, 0, 1, 1])}],\n",
       "    'layout': {'template': '...'}\n",
       "})"
      ]
     },
     "execution_count": 2,
     "metadata": {},
     "output_type": "execute_result"
    }
   ],
   "source": [
    "import numpy as np\n",
    "import plotly.graph_objects as go\n",
    "\n",
    "# XOR data\n",
    "inputs = np.array([[0, 0], [1, 0], [0, 1], [1, 1]])\n",
    "ouputs = np.array([0, 1, 1, 0])\n",
    "\n",
    "np.random.seed(1)\n",
    "weights = np.random.random((2,1))\n",
    "alpha = 0.001\n",
    "\n",
    "overall_error = 0\n",
    "iteration_x = []\n",
    "error_y = []\n",
    "\n",
    "# Iterating over training iterations\n",
    "for iteration in range(500):\n",
    "    overall_error = 0\n",
    "    for row in range(len(inputs)):\n",
    "        x = inputs[row]\n",
    "        y = ouputs[row]\n",
    "\n",
    "        pred = np.dot(x, weights)\n",
    "\n",
    "        error = (pred - y) ** 2\n",
    "        delta = pred - y\n",
    "        weighted_delta = delta * x\n",
    "        weights = weights - weighted_delta * alpha\n",
    "\n",
    "        overall_error = overall_error + error\n",
    "\n",
    "    # generate linear decision bondary\n",
    "    a = -weights[0] / weights[1]\n",
    "    xx = np.linspace(0, 1, 2)\n",
    "    yy = a * xx\n",
    "    \n",
    "    error_y.append(overall_error)\n",
    "    iteration_x.append(iteration)\n",
    "\n",
    "# Plotting the XOR data points\n",
    "xor_fig = go.FigureWidget(data=[go.Scatter(x=inputs[:, 0], y=inputs[:, 1], mode='markers', marker=dict(color=ouputs, colorscale='Viridis'))])\n",
    "xor_fig"
   ]
  }
 ],
 "metadata": {
  "kernelspec": {
   "display_name": "Python 3 (ipykernel)",
   "language": "python",
   "name": "python3"
  },
  "language_info": {
   "codemirror_mode": {
    "name": "ipython",
    "version": 3
   },
   "file_extension": ".py",
   "mimetype": "text/x-python",
   "name": "python",
   "nbconvert_exporter": "python",
   "pygments_lexer": "ipython3",
   "version": "3.10.12"
  }
 },
 "nbformat": 4,
 "nbformat_minor": 4
}
