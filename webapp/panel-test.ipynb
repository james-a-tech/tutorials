{
 "cells": [
  {
   "cell_type": "code",
   "execution_count": 47,
   "id": "c9f59901-5f6b-42bd-8cac-cd8da8171987",
   "metadata": {
    "tags": []
   },
   "outputs": [
    {
     "data": {
      "application/vnd.jupyter.widget-view+json": {
       "model_id": "2377255b41c3451e86ba5d5316b7de90",
       "version_major": 2,
       "version_minor": 0
      },
      "text/plain": [
       "HBox(children=(FigureWidget({\n",
       "    'data': [{'type': 'scatter', 'uid': '495db9b5-d007-47e6-abff-0965575d66ee', …"
      ]
     },
     "execution_count": 47,
     "metadata": {},
     "output_type": "execute_result"
    }
   ],
   "source": [
    "import plotly.graph_objs as go\n",
    "import ipywidgets as widgets\n",
    "from IPython.display import display\n",
    "\n",
    "# Create first FigureWidget\n",
    "fig1 = go.FigureWidget(data=[{'x': [1, 2, 3], 'y': [1, 3, 2]}])\n",
    "\n",
    "# Create second FigureWidget\n",
    "fig2 = go.FigureWidget(data=[{'x': [1, 2, 3], 'y': [3, 2, 1]}])\n",
    "\n",
    "# Arrange the FigureWidgets horizontally using HBox\n",
    "widgets.HBox([fig1, fig2])\n"
   ]
  },
  {
   "cell_type": "code",
   "execution_count": 44,
   "id": "994e1d6b-4a17-4be1-b296-11c8cad56951",
   "metadata": {
    "tags": []
   },
   "outputs": [],
   "source": [
    "for i in range(len(data)):\n",
    "    time.sleep(0.3)\n",
    "    fig.data[0].y = data[:i] "
   ]
  }
 ],
 "metadata": {
  "kernelspec": {
   "display_name": "Python 3 (ipykernel)",
   "language": "python",
   "name": "python3"
  },
  "language_info": {
   "codemirror_mode": {
    "name": "ipython",
    "version": 3
   },
   "file_extension": ".py",
   "mimetype": "text/x-python",
   "name": "python",
   "nbconvert_exporter": "python",
   "pygments_lexer": "ipython3",
   "version": "3.10.12"
  }
 },
 "nbformat": 4,
 "nbformat_minor": 5
}
