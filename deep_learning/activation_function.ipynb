{
 "cells": [
  {
   "cell_type": "markdown",
   "metadata": {},
   "source": [
    "## Softmax activation function"
   ]
  },
  {
   "cell_type": "markdown",
   "metadata": {},
   "source": [
    "Usage of exponents\n",
    "\n",
    "\n",
    "* Non-Negativity: To convert negative numbers to positive numbers and if the number is large negative it converts them to zero. (used in softmax for probability calculation) \n",
    "\n",
    "* Relative Magnitudes: Exponentiation amplifies the differences between scores, making the highest scores much more pronounced "
   ]
  },
  {
   "cell_type": "code",
   "execution_count": 1,
   "metadata": {},
   "outputs": [
    {
     "data": {
      "text/plain": [
       "array([0.26762315, 0.72747516, 0.00490169])"
      ]
     },
     "execution_count": 1,
     "metadata": {},
     "output_type": "execute_result"
    }
   ],
   "source": [
    "import numpy as np\n",
    "\n",
    "def softmax(x):\n",
    "    # noramlize to avoid number exponenstion number\n",
    "    x = x - np.max(x)\n",
    "    # calculate e^x to remove negative numbers\n",
    "    x = np.exp(x)\n",
    "    # calcualte software values\n",
    "    x = x / np.sum(x)\n",
    "    return x\n",
    "\n",
    "softmax(np.array([1, 2, -3]))"
   ]
  }
 ],
 "metadata": {
  "kernelspec": {
   "display_name": "Python 3",
   "language": "python",
   "name": "python3"
  },
  "language_info": {
   "codemirror_mode": {
    "name": "ipython",
    "version": 3
   },
   "file_extension": ".py",
   "mimetype": "text/x-python",
   "name": "python",
   "nbconvert_exporter": "python",
   "pygments_lexer": "ipython3",
   "version": "3.11.9"
  }
 },
 "nbformat": 4,
 "nbformat_minor": 2
}
