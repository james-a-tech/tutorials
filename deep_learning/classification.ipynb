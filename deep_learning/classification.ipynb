{
 "cells": [
  {
   "cell_type": "code",
   "execution_count": 10,
   "metadata": {},
   "outputs": [
    {
     "data": {
      "text/html": [
       "<div>\n",
       "<style scoped>\n",
       "    .dataframe tbody tr th:only-of-type {\n",
       "        vertical-align: middle;\n",
       "    }\n",
       "\n",
       "    .dataframe tbody tr th {\n",
       "        vertical-align: top;\n",
       "    }\n",
       "\n",
       "    .dataframe thead th {\n",
       "        text-align: right;\n",
       "    }\n",
       "</style>\n",
       "<table border=\"1\" class=\"dataframe\">\n",
       "  <thead>\n",
       "    <tr style=\"text-align: right;\">\n",
       "      <th></th>\n",
       "      <th>x1</th>\n",
       "      <th>x2</th>\n",
       "      <th>y</th>\n",
       "    </tr>\n",
       "  </thead>\n",
       "  <tbody>\n",
       "    <tr>\n",
       "      <th>0</th>\n",
       "      <td>2</td>\n",
       "      <td>1</td>\n",
       "      <td>1</td>\n",
       "    </tr>\n",
       "    <tr>\n",
       "      <th>1</th>\n",
       "      <td>3</td>\n",
       "      <td>2</td>\n",
       "      <td>1</td>\n",
       "    </tr>\n",
       "    <tr>\n",
       "      <th>2</th>\n",
       "      <td>4</td>\n",
       "      <td>4</td>\n",
       "      <td>1</td>\n",
       "    </tr>\n",
       "    <tr>\n",
       "      <th>3</th>\n",
       "      <td>1</td>\n",
       "      <td>5</td>\n",
       "      <td>0</td>\n",
       "    </tr>\n",
       "    <tr>\n",
       "      <th>4</th>\n",
       "      <td>2</td>\n",
       "      <td>6</td>\n",
       "      <td>0</td>\n",
       "    </tr>\n",
       "    <tr>\n",
       "      <th>5</th>\n",
       "      <td>3</td>\n",
       "      <td>7</td>\n",
       "      <td>0</td>\n",
       "    </tr>\n",
       "  </tbody>\n",
       "</table>\n",
       "</div>"
      ],
      "text/plain": [
       "   x1  x2  y\n",
       "0   2   1  1\n",
       "1   3   2  1\n",
       "2   4   4  1\n",
       "3   1   5  0\n",
       "4   2   6  0\n",
       "5   3   7  0"
      ]
     },
     "execution_count": 10,
     "metadata": {},
     "output_type": "execute_result"
    }
   ],
   "source": [
    "import pandas as pd\n",
    "import plotly.graph_objects as go\n",
    "\n",
    "# Sample DataFrame\n",
    "df = pd.DataFrame({\n",
    "    'x1': [2, 3, 4, 1, 2, 3],\n",
    "    'x2': [1, 2, 4, 5, 6, 7],\n",
    "    'y': [1, 1, 1, 0, 0, 0]\n",
    "})\n",
    "\n",
    "df"
   ]
  },
  {
   "cell_type": "code",
   "execution_count": 11,
   "metadata": {},
   "outputs": [
    {
     "data": {
      "application/vnd.plotly.v1+json": {
       "config": {
        "plotlyServerURL": "https://plot.ly"
       },
       "data": [
        {
         "marker": {
          "color": [
           "red",
           "red",
           "red",
           "blue",
           "blue",
           "blue"
          ],
          "size": 10,
          "symbol": [
           "x",
           "x",
           "x",
           "x",
           "x",
           "x"
          ]
         },
         "mode": "markers",
         "name": "Data Points",
         "type": "scatter",
         "x": [
          2,
          3,
          4,
          1,
          2,
          3
         ],
         "y": [
          1,
          2,
          4,
          5,
          6,
          7
         ]
        }
       ],
       "layout": {
        "template": {
         "data": {
          "bar": [
           {
            "error_x": {
             "color": "#2a3f5f"
            },
            "error_y": {
             "color": "#2a3f5f"
            },
            "marker": {
             "line": {
              "color": "#E5ECF6",
              "width": 0.5
             },
             "pattern": {
              "fillmode": "overlay",
              "size": 10,
              "solidity": 0.2
             }
            },
            "type": "bar"
           }
          ],
          "barpolar": [
           {
            "marker": {
             "line": {
              "color": "#E5ECF6",
              "width": 0.5
             },
             "pattern": {
              "fillmode": "overlay",
              "size": 10,
              "solidity": 0.2
             }
            },
            "type": "barpolar"
           }
          ],
          "carpet": [
           {
            "aaxis": {
             "endlinecolor": "#2a3f5f",
             "gridcolor": "white",
             "linecolor": "white",
             "minorgridcolor": "white",
             "startlinecolor": "#2a3f5f"
            },
            "baxis": {
             "endlinecolor": "#2a3f5f",
             "gridcolor": "white",
             "linecolor": "white",
             "minorgridcolor": "white",
             "startlinecolor": "#2a3f5f"
            },
            "type": "carpet"
           }
          ],
          "choropleth": [
           {
            "colorbar": {
             "outlinewidth": 0,
             "ticks": ""
            },
            "type": "choropleth"
           }
          ],
          "contour": [
           {
            "colorbar": {
             "outlinewidth": 0,
             "ticks": ""
            },
            "colorscale": [
             [
              0,
              "#0d0887"
             ],
             [
              0.1111111111111111,
              "#46039f"
             ],
             [
              0.2222222222222222,
              "#7201a8"
             ],
             [
              0.3333333333333333,
              "#9c179e"
             ],
             [
              0.4444444444444444,
              "#bd3786"
             ],
             [
              0.5555555555555556,
              "#d8576b"
             ],
             [
              0.6666666666666666,
              "#ed7953"
             ],
             [
              0.7777777777777778,
              "#fb9f3a"
             ],
             [
              0.8888888888888888,
              "#fdca26"
             ],
             [
              1,
              "#f0f921"
             ]
            ],
            "type": "contour"
           }
          ],
          "contourcarpet": [
           {
            "colorbar": {
             "outlinewidth": 0,
             "ticks": ""
            },
            "type": "contourcarpet"
           }
          ],
          "heatmap": [
           {
            "colorbar": {
             "outlinewidth": 0,
             "ticks": ""
            },
            "colorscale": [
             [
              0,
              "#0d0887"
             ],
             [
              0.1111111111111111,
              "#46039f"
             ],
             [
              0.2222222222222222,
              "#7201a8"
             ],
             [
              0.3333333333333333,
              "#9c179e"
             ],
             [
              0.4444444444444444,
              "#bd3786"
             ],
             [
              0.5555555555555556,
              "#d8576b"
             ],
             [
              0.6666666666666666,
              "#ed7953"
             ],
             [
              0.7777777777777778,
              "#fb9f3a"
             ],
             [
              0.8888888888888888,
              "#fdca26"
             ],
             [
              1,
              "#f0f921"
             ]
            ],
            "type": "heatmap"
           }
          ],
          "heatmapgl": [
           {
            "colorbar": {
             "outlinewidth": 0,
             "ticks": ""
            },
            "colorscale": [
             [
              0,
              "#0d0887"
             ],
             [
              0.1111111111111111,
              "#46039f"
             ],
             [
              0.2222222222222222,
              "#7201a8"
             ],
             [
              0.3333333333333333,
              "#9c179e"
             ],
             [
              0.4444444444444444,
              "#bd3786"
             ],
             [
              0.5555555555555556,
              "#d8576b"
             ],
             [
              0.6666666666666666,
              "#ed7953"
             ],
             [
              0.7777777777777778,
              "#fb9f3a"
             ],
             [
              0.8888888888888888,
              "#fdca26"
             ],
             [
              1,
              "#f0f921"
             ]
            ],
            "type": "heatmapgl"
           }
          ],
          "histogram": [
           {
            "marker": {
             "pattern": {
              "fillmode": "overlay",
              "size": 10,
              "solidity": 0.2
             }
            },
            "type": "histogram"
           }
          ],
          "histogram2d": [
           {
            "colorbar": {
             "outlinewidth": 0,
             "ticks": ""
            },
            "colorscale": [
             [
              0,
              "#0d0887"
             ],
             [
              0.1111111111111111,
              "#46039f"
             ],
             [
              0.2222222222222222,
              "#7201a8"
             ],
             [
              0.3333333333333333,
              "#9c179e"
             ],
             [
              0.4444444444444444,
              "#bd3786"
             ],
             [
              0.5555555555555556,
              "#d8576b"
             ],
             [
              0.6666666666666666,
              "#ed7953"
             ],
             [
              0.7777777777777778,
              "#fb9f3a"
             ],
             [
              0.8888888888888888,
              "#fdca26"
             ],
             [
              1,
              "#f0f921"
             ]
            ],
            "type": "histogram2d"
           }
          ],
          "histogram2dcontour": [
           {
            "colorbar": {
             "outlinewidth": 0,
             "ticks": ""
            },
            "colorscale": [
             [
              0,
              "#0d0887"
             ],
             [
              0.1111111111111111,
              "#46039f"
             ],
             [
              0.2222222222222222,
              "#7201a8"
             ],
             [
              0.3333333333333333,
              "#9c179e"
             ],
             [
              0.4444444444444444,
              "#bd3786"
             ],
             [
              0.5555555555555556,
              "#d8576b"
             ],
             [
              0.6666666666666666,
              "#ed7953"
             ],
             [
              0.7777777777777778,
              "#fb9f3a"
             ],
             [
              0.8888888888888888,
              "#fdca26"
             ],
             [
              1,
              "#f0f921"
             ]
            ],
            "type": "histogram2dcontour"
           }
          ],
          "mesh3d": [
           {
            "colorbar": {
             "outlinewidth": 0,
             "ticks": ""
            },
            "type": "mesh3d"
           }
          ],
          "parcoords": [
           {
            "line": {
             "colorbar": {
              "outlinewidth": 0,
              "ticks": ""
             }
            },
            "type": "parcoords"
           }
          ],
          "pie": [
           {
            "automargin": true,
            "type": "pie"
           }
          ],
          "scatter": [
           {
            "fillpattern": {
             "fillmode": "overlay",
             "size": 10,
             "solidity": 0.2
            },
            "type": "scatter"
           }
          ],
          "scatter3d": [
           {
            "line": {
             "colorbar": {
              "outlinewidth": 0,
              "ticks": ""
             }
            },
            "marker": {
             "colorbar": {
              "outlinewidth": 0,
              "ticks": ""
             }
            },
            "type": "scatter3d"
           }
          ],
          "scattercarpet": [
           {
            "marker": {
             "colorbar": {
              "outlinewidth": 0,
              "ticks": ""
             }
            },
            "type": "scattercarpet"
           }
          ],
          "scattergeo": [
           {
            "marker": {
             "colorbar": {
              "outlinewidth": 0,
              "ticks": ""
             }
            },
            "type": "scattergeo"
           }
          ],
          "scattergl": [
           {
            "marker": {
             "colorbar": {
              "outlinewidth": 0,
              "ticks": ""
             }
            },
            "type": "scattergl"
           }
          ],
          "scattermapbox": [
           {
            "marker": {
             "colorbar": {
              "outlinewidth": 0,
              "ticks": ""
             }
            },
            "type": "scattermapbox"
           }
          ],
          "scatterpolar": [
           {
            "marker": {
             "colorbar": {
              "outlinewidth": 0,
              "ticks": ""
             }
            },
            "type": "scatterpolar"
           }
          ],
          "scatterpolargl": [
           {
            "marker": {
             "colorbar": {
              "outlinewidth": 0,
              "ticks": ""
             }
            },
            "type": "scatterpolargl"
           }
          ],
          "scatterternary": [
           {
            "marker": {
             "colorbar": {
              "outlinewidth": 0,
              "ticks": ""
             }
            },
            "type": "scatterternary"
           }
          ],
          "surface": [
           {
            "colorbar": {
             "outlinewidth": 0,
             "ticks": ""
            },
            "colorscale": [
             [
              0,
              "#0d0887"
             ],
             [
              0.1111111111111111,
              "#46039f"
             ],
             [
              0.2222222222222222,
              "#7201a8"
             ],
             [
              0.3333333333333333,
              "#9c179e"
             ],
             [
              0.4444444444444444,
              "#bd3786"
             ],
             [
              0.5555555555555556,
              "#d8576b"
             ],
             [
              0.6666666666666666,
              "#ed7953"
             ],
             [
              0.7777777777777778,
              "#fb9f3a"
             ],
             [
              0.8888888888888888,
              "#fdca26"
             ],
             [
              1,
              "#f0f921"
             ]
            ],
            "type": "surface"
           }
          ],
          "table": [
           {
            "cells": {
             "fill": {
              "color": "#EBF0F8"
             },
             "line": {
              "color": "white"
             }
            },
            "header": {
             "fill": {
              "color": "#C8D4E3"
             },
             "line": {
              "color": "white"
             }
            },
            "type": "table"
           }
          ]
         },
         "layout": {
          "annotationdefaults": {
           "arrowcolor": "#2a3f5f",
           "arrowhead": 0,
           "arrowwidth": 1
          },
          "autotypenumbers": "strict",
          "coloraxis": {
           "colorbar": {
            "outlinewidth": 0,
            "ticks": ""
           }
          },
          "colorscale": {
           "diverging": [
            [
             0,
             "#8e0152"
            ],
            [
             0.1,
             "#c51b7d"
            ],
            [
             0.2,
             "#de77ae"
            ],
            [
             0.3,
             "#f1b6da"
            ],
            [
             0.4,
             "#fde0ef"
            ],
            [
             0.5,
             "#f7f7f7"
            ],
            [
             0.6,
             "#e6f5d0"
            ],
            [
             0.7,
             "#b8e186"
            ],
            [
             0.8,
             "#7fbc41"
            ],
            [
             0.9,
             "#4d9221"
            ],
            [
             1,
             "#276419"
            ]
           ],
           "sequential": [
            [
             0,
             "#0d0887"
            ],
            [
             0.1111111111111111,
             "#46039f"
            ],
            [
             0.2222222222222222,
             "#7201a8"
            ],
            [
             0.3333333333333333,
             "#9c179e"
            ],
            [
             0.4444444444444444,
             "#bd3786"
            ],
            [
             0.5555555555555556,
             "#d8576b"
            ],
            [
             0.6666666666666666,
             "#ed7953"
            ],
            [
             0.7777777777777778,
             "#fb9f3a"
            ],
            [
             0.8888888888888888,
             "#fdca26"
            ],
            [
             1,
             "#f0f921"
            ]
           ],
           "sequentialminus": [
            [
             0,
             "#0d0887"
            ],
            [
             0.1111111111111111,
             "#46039f"
            ],
            [
             0.2222222222222222,
             "#7201a8"
            ],
            [
             0.3333333333333333,
             "#9c179e"
            ],
            [
             0.4444444444444444,
             "#bd3786"
            ],
            [
             0.5555555555555556,
             "#d8576b"
            ],
            [
             0.6666666666666666,
             "#ed7953"
            ],
            [
             0.7777777777777778,
             "#fb9f3a"
            ],
            [
             0.8888888888888888,
             "#fdca26"
            ],
            [
             1,
             "#f0f921"
            ]
           ]
          },
          "colorway": [
           "#636efa",
           "#EF553B",
           "#00cc96",
           "#ab63fa",
           "#FFA15A",
           "#19d3f3",
           "#FF6692",
           "#B6E880",
           "#FF97FF",
           "#FECB52"
          ],
          "font": {
           "color": "#2a3f5f"
          },
          "geo": {
           "bgcolor": "white",
           "lakecolor": "white",
           "landcolor": "#E5ECF6",
           "showlakes": true,
           "showland": true,
           "subunitcolor": "white"
          },
          "hoverlabel": {
           "align": "left"
          },
          "hovermode": "closest",
          "mapbox": {
           "style": "light"
          },
          "paper_bgcolor": "white",
          "plot_bgcolor": "#E5ECF6",
          "polar": {
           "angularaxis": {
            "gridcolor": "white",
            "linecolor": "white",
            "ticks": ""
           },
           "bgcolor": "#E5ECF6",
           "radialaxis": {
            "gridcolor": "white",
            "linecolor": "white",
            "ticks": ""
           }
          },
          "scene": {
           "xaxis": {
            "backgroundcolor": "#E5ECF6",
            "gridcolor": "white",
            "gridwidth": 2,
            "linecolor": "white",
            "showbackground": true,
            "ticks": "",
            "zerolinecolor": "white"
           },
           "yaxis": {
            "backgroundcolor": "#E5ECF6",
            "gridcolor": "white",
            "gridwidth": 2,
            "linecolor": "white",
            "showbackground": true,
            "ticks": "",
            "zerolinecolor": "white"
           },
           "zaxis": {
            "backgroundcolor": "#E5ECF6",
            "gridcolor": "white",
            "gridwidth": 2,
            "linecolor": "white",
            "showbackground": true,
            "ticks": "",
            "zerolinecolor": "white"
           }
          },
          "shapedefaults": {
           "line": {
            "color": "#2a3f5f"
           }
          },
          "ternary": {
           "aaxis": {
            "gridcolor": "white",
            "linecolor": "white",
            "ticks": ""
           },
           "baxis": {
            "gridcolor": "white",
            "linecolor": "white",
            "ticks": ""
           },
           "bgcolor": "#E5ECF6",
           "caxis": {
            "gridcolor": "white",
            "linecolor": "white",
            "ticks": ""
           }
          },
          "title": {
           "x": 0.05
          },
          "xaxis": {
           "automargin": true,
           "gridcolor": "white",
           "linecolor": "white",
           "ticks": "",
           "title": {
            "standoff": 15
           },
           "zerolinecolor": "white",
           "zerolinewidth": 2
          },
          "yaxis": {
           "automargin": true,
           "gridcolor": "white",
           "linecolor": "white",
           "ticks": "",
           "title": {
            "standoff": 15
           },
           "zerolinecolor": "white",
           "zerolinewidth": 2
          }
         }
        }
       }
      }
     },
     "metadata": {},
     "output_type": "display_data"
    }
   ],
   "source": [
    "# Define marker styles based on 'y' values\n",
    "marker_symbols = df['y'].map({1: 'x', 0: 'x'})  # or any other symbol you prefer\n",
    "marker_colors = df['y'].map({1: 'red', 0: 'blue'})\n",
    "\n",
    "# Create the figure\n",
    "fig = go.Figure()\n",
    "\n",
    "# Add scatter plot\n",
    "fig.add_trace(go.Scatter(\n",
    "    x=df['x1'],\n",
    "    y=df['x2'],\n",
    "    mode='markers',\n",
    "    name='Data Points',\n",
    "    marker=dict(symbol=marker_symbols, color=marker_colors, size=10)\n",
    "))\n",
    "\n",
    "# Show the figure\n",
    "fig.show()"
   ]
  },
  {
   "cell_type": "code",
   "execution_count": 12,
   "metadata": {},
   "outputs": [
    {
     "name": "stdout",
     "output_type": "stream",
     "text": [
      "pred : [0, 0, 0, 0, 0, 0]\n",
      "loss : 0.6931471805599453\n",
      "pred : [0, 0, 0, 0, 0, 0]\n",
      "loss : 0.6388260017393624\n",
      "pred : [1, 1, 1, 1, 1, 1]\n",
      "loss : 0.691505742058936\n",
      "pred : [0, 0, 0, 0, 0, 0]\n",
      "loss : 1.0337690086359739\n",
      "pred : [1, 1, 1, 0, 0, 0]\n",
      "loss : 0.14497278646215048\n",
      "pred : [1, 1, 1, 0, 0, 0]\n",
      "loss : 0.12469417655927965\n",
      "pred : [1, 1, 1, 0, 0, 0]\n",
      "loss : 0.10800975618639354\n",
      "pred : [1, 1, 1, 0, 0, 0]\n",
      "loss : 0.09694956340401946\n",
      "pred : [1, 1, 1, 0, 0, 0]\n",
      "loss : 0.08829249305571855\n",
      "pred : [1, 1, 1, 0, 0, 0]\n",
      "loss : 0.08113203894112091\n",
      "pred : [1, 1, 1, 0, 0, 0]\n",
      "loss : 0.07504784476397963\n",
      "pred : [1, 1, 1, 0, 0, 0]\n",
      "loss : 0.06981074406945521\n",
      "pred : [1, 1, 1, 0, 0, 0]\n",
      "loss : 0.0652560478340044\n",
      "pred : [1, 1, 1, 0, 0, 0]\n",
      "loss : 0.061259120072512656\n",
      "pred : [1, 1, 1, 0, 0, 0]\n",
      "loss : 0.05772380567972066\n",
      "pred : [1, 1, 1, 0, 0, 0]\n",
      "loss : 0.054574765584700424\n",
      "pred : [1, 1, 1, 0, 0, 0]\n",
      "loss : 0.051752152688891884\n",
      "pred : [1, 1, 1, 0, 0, 0]\n",
      "loss : 0.04920783723345549\n",
      "pred : [1, 1, 1, 0, 0, 0]\n",
      "loss : 0.04690268133662647\n",
      "pred : [1, 1, 1, 0, 0, 0]\n",
      "loss : 0.044804538429799506\n",
      "pred : [1, 1, 1, 0, 0, 0]\n",
      "loss : 0.04288676274593508\n",
      "pred : [1, 1, 1, 0, 0, 0]\n",
      "loss : 0.0411270836702308\n",
      "pred : [1, 1, 1, 0, 0, 0]\n",
      "loss : 0.03950674505403276\n",
      "pred : [1, 1, 1, 0, 0, 0]\n",
      "loss : 0.03800983961630839\n",
      "pred : [1, 1, 1, 0, 0, 0]\n",
      "loss : 0.036622788814787706\n",
      "pred : [1, 1, 1, 0, 0, 0]\n",
      "loss : 0.03533393246153725\n",
      "pred : [1, 1, 1, 0, 0, 0]\n",
      "loss : 0.03413320202907923\n",
      "pred : [1, 1, 1, 0, 0, 0]\n",
      "loss : 0.033011858419766484\n",
      "pred : [1, 1, 1, 0, 0, 0]\n",
      "loss : 0.031962279852029415\n",
      "pred : [1, 1, 1, 0, 0, 0]\n",
      "loss : 0.030977789048781623\n",
      "pred : [1, 1, 1, 0, 0, 0]\n",
      "loss : 0.030052511497275763\n",
      "pred : [1, 1, 1, 0, 0, 0]\n",
      "loss : 0.02918125846007094\n",
      "pred : [1, 1, 1, 0, 0, 0]\n",
      "loss : 0.028359429842938582\n",
      "pred : [1, 1, 1, 0, 0, 0]\n",
      "loss : 0.027582933099969106\n",
      "pred : [1, 1, 1, 0, 0, 0]\n",
      "loss : 0.02684811517257699\n",
      "pred : [1, 1, 1, 0, 0, 0]\n",
      "loss : 0.02615170508451012\n",
      "pred : [1, 1, 1, 0, 0, 0]\n",
      "loss : 0.02549076529771664\n",
      "pred : [1, 1, 1, 0, 0, 0]\n",
      "loss : 0.024862650309237882\n",
      "pred : [1, 1, 1, 0, 0, 0]\n",
      "loss : 0.02426497126308175\n",
      "pred : [1, 1, 1, 0, 0, 0]\n",
      "loss : 0.023695565582488726\n",
      "pred : [1, 1, 1, 0, 0, 0]\n",
      "loss : 0.02315247081147197\n",
      "pred : [1, 1, 1, 0, 0, 0]\n",
      "loss : 0.022633902000794823\n",
      "pred : [1, 1, 1, 0, 0, 0]\n",
      "loss : 0.022138232090827156\n",
      "pred : [1, 1, 1, 0, 0, 0]\n",
      "loss : 0.021663974838240747\n",
      "pred : [1, 1, 1, 0, 0, 0]\n",
      "loss : 0.021209769910073544\n",
      "pred : [1, 1, 1, 0, 0, 0]\n",
      "loss : 0.020774369831005165\n",
      "pred : [1, 1, 1, 0, 0, 0]\n",
      "loss : 0.020356628520645636\n",
      "pred : [1, 1, 1, 0, 0, 0]\n",
      "loss : 0.01995549119948312\n",
      "pred : [1, 1, 1, 0, 0, 0]\n",
      "loss : 0.019569985476651237\n",
      "pred : [1, 1, 1, 0, 0, 0]\n",
      "loss : 0.019199213461252043\n",
      "pred : [1, 1, 1, 0, 0, 0]\n",
      "loss : 0.018842344762726497\n",
      "pred : [1, 1, 1, 0, 0, 0]\n",
      "loss : 0.018498610265583828\n",
      "pred : [1, 1, 1, 0, 0, 0]\n",
      "loss : 0.018167296580395936\n",
      "pred : [1, 1, 1, 0, 0, 0]\n",
      "loss : 0.01784774108690598\n",
      "pred : [1, 1, 1, 0, 0, 0]\n",
      "loss : 0.017539327496853305\n",
      "pred : [1, 1, 1, 0, 0, 0]\n",
      "loss : 0.017241481874056063\n",
      "pred : [1, 1, 1, 0, 0, 0]\n",
      "loss : 0.01695366905772373\n",
      "pred : [1, 1, 1, 0, 0, 0]\n",
      "loss : 0.016675389442142124\n",
      "pred : [1, 1, 1, 0, 0, 0]\n",
      "loss : 0.016406176071994735\n",
      "pred : [1, 1, 1, 0, 0, 0]\n",
      "loss : 0.016145592017817293\n",
      "pred : [1, 1, 1, 0, 0, 0]\n",
      "loss : 0.015893228000572548\n",
      "pred : [1, 1, 1, 0, 0, 0]\n",
      "loss : 0.01564870023819483\n",
      "pred : [1, 1, 1, 0, 0, 0]\n",
      "loss : 0.015411648490282493\n",
      "pred : [1, 1, 1, 0, 0, 0]\n",
      "loss : 0.015181734279992176\n",
      "pred : [1, 1, 1, 0, 0, 0]\n",
      "loss : 0.014958639274683057\n",
      "pred : [1, 1, 1, 0, 0, 0]\n",
      "loss : 0.014742063809020088\n",
      "pred : [1, 1, 1, 0, 0, 0]\n",
      "loss : 0.014531725536129567\n",
      "pred : [1, 1, 1, 0, 0, 0]\n",
      "loss : 0.014327358194040555\n",
      "pred : [1, 1, 1, 0, 0, 0]\n",
      "loss : 0.014128710476079269\n",
      "pred : [1, 1, 1, 0, 0, 0]\n",
      "loss : 0.013935544995139493\n",
      "pred : [1, 1, 1, 0, 0, 0]\n",
      "loss : 0.013747637332852851\n",
      "pred : [1, 1, 1, 0, 0, 0]\n",
      "loss : 0.013564775165649518\n",
      "pred : [1, 1, 1, 0, 0, 0]\n",
      "loss : 0.01338675746055309\n",
      "pred : [1, 1, 1, 0, 0, 0]\n",
      "loss : 0.013213393734303665\n",
      "pred : [1, 1, 1, 0, 0, 0]\n",
      "loss : 0.013044503370066253\n",
      "pred : [1, 1, 1, 0, 0, 0]\n",
      "loss : 0.012879914986570783\n",
      "pred : [1, 1, 1, 0, 0, 0]\n",
      "loss : 0.012719465855049355\n",
      "pred : [1, 1, 1, 0, 0, 0]\n",
      "loss : 0.01256300135979811\n",
      "pred : [1, 1, 1, 0, 0, 0]\n",
      "loss : 0.012410374498603055\n",
      "pred : [1, 1, 1, 0, 0, 0]\n",
      "loss : 0.012261445419635841\n",
      "pred : [1, 1, 1, 0, 0, 0]\n",
      "loss : 0.012116080991749094\n",
      "pred : [1, 1, 1, 0, 0, 0]\n",
      "loss : 0.011974154405396011\n",
      "pred : [1, 1, 1, 0, 0, 0]\n",
      "loss : 0.011835544801657112\n",
      "pred : [1, 1, 1, 0, 0, 0]\n",
      "loss : 0.011700136927091624\n",
      "pred : [1, 1, 1, 0, 0, 0]\n",
      "loss : 0.011567820812339988\n",
      "pred : [1, 1, 1, 0, 0, 0]\n",
      "loss : 0.011438491472592528\n",
      "pred : [1, 1, 1, 0, 0, 0]\n",
      "loss : 0.011312048628208277\n",
      "pred : [1, 1, 1, 0, 0, 0]\n",
      "loss : 0.011188396443919576\n",
      "pred : [1, 1, 1, 0, 0, 0]\n",
      "loss : 0.01106744328519558\n",
      "pred : [1, 1, 1, 0, 0, 0]\n",
      "loss : 0.010949101490462769\n",
      "pred : [1, 1, 1, 0, 0, 0]\n",
      "loss : 0.010833287157990187\n",
      "pred : [1, 1, 1, 0, 0, 0]\n",
      "loss : 0.010719919946349991\n",
      "pred : [1, 1, 1, 0, 0, 0]\n",
      "loss : 0.010608922887455506\n",
      "pred : [1, 1, 1, 0, 0, 0]\n",
      "loss : 0.010500222211259928\n",
      "pred : [1, 1, 1, 0, 0, 0]\n",
      "loss : 0.010393747181278104\n",
      "pred : [1, 1, 1, 0, 0, 0]\n",
      "loss : 0.010289429940157182\n",
      "pred : [1, 1, 1, 0, 0, 0]\n",
      "loss : 0.010187205364589301\n",
      "pred : [1, 1, 1, 0, 0, 0]\n",
      "loss : 0.010087010928911892\n",
      "pred : [1, 1, 1, 0, 0, 0]\n",
      "loss : 0.009988786576795349\n",
      "pred : [1, 1, 1, 0, 0, 0]\n",
      "loss : 0.009892474600464373\n",
      "w : [ 2.89106153 -1.87315708],  b : 0.12150555745190668\n"
     ]
    }
   ],
   "source": [
    "import numpy as np\n",
    "\n",
    "# separate inputs and outputs and randomly initialize weights\n",
    "x = df.loc[:, ['x1', 'x2']].to_numpy()\n",
    "y = df['y'].to_numpy()\n",
    "\n",
    "w = np.array([0.0,0.0])\n",
    "b = 0.0\n",
    "\n",
    "iteration = 100\n",
    "for i in range(iteration):\n",
    "    # calculate predicted values using sigmoid function\n",
    "    z = np.dot(x,w) + b\n",
    "    h = 1 / (1 + np.exp(-z))\n",
    "    p = [1 if i > 0.5 else 0 for i in h]\n",
    "\n",
    "    print(f'pred : {p}')\n",
    "    # calculate error\n",
    "    loss = -np.mean(y * np.log(h) + (1 - y) * np.log(1 - h))\n",
    "    print(f'loss : {loss}')\n",
    "\n",
    "    # calculate gradient\n",
    "    alpha = 0.1\n",
    "    delta = h - y\n",
    "    # using batch gradient descent algorithm\n",
    "    weighted_delta = np.dot(x.T, delta)\n",
    "    grad_w = weighted_delta\n",
    "    grad_b = np.mean(delta)\n",
    "\n",
    "    # weight and bias update\n",
    "    w -= grad_w * alpha\n",
    "    b -= grad_b * alpha\n",
    "\n",
    "print(f'w : {w},  b : {b}')"
   ]
  },
  {
   "cell_type": "code",
   "execution_count": 23,
   "metadata": {},
   "outputs": [
    {
     "data": {
      "application/vnd.plotly.v1+json": {
       "config": {
        "plotlyServerURL": "https://plot.ly"
       },
       "data": [
        {
         "marker": {
          "color": [
           1,
           0,
           0,
           0,
           0,
           0,
           0,
           0,
           0,
           1,
           1,
           0,
           0,
           0,
           0,
           0,
           0,
           0,
           1,
           1,
           1,
           1,
           0,
           0,
           0,
           0,
           0,
           1,
           1,
           1,
           1,
           1,
           0,
           0,
           0,
           0,
           1,
           1,
           1,
           1,
           1,
           1,
           1,
           0,
           0,
           1,
           1,
           1,
           1,
           1,
           1,
           1,
           1,
           0,
           1,
           1,
           1,
           1,
           1,
           1,
           1,
           1,
           1,
           1,
           1,
           1,
           1,
           1,
           1,
           1,
           1,
           1,
           1,
           1,
           1,
           1,
           1,
           1,
           1,
           1,
           1,
           1,
           1,
           1,
           1,
           1,
           1,
           1,
           1,
           1,
           1,
           1,
           1,
           1,
           1,
           1,
           1,
           1,
           1,
           1
          ],
          "colorscale": [
           [
            0,
            "blue"
           ],
           [
            1,
            "red"
           ]
          ]
         },
         "mode": "markers",
         "name": "X range",
         "type": "scatter",
         "x": [
          0,
          0,
          0,
          0,
          0,
          0,
          0,
          0,
          0,
          1,
          1,
          1,
          1,
          1,
          1,
          1,
          1,
          1,
          2,
          2,
          2,
          2,
          2,
          2,
          2,
          2,
          2,
          3,
          3,
          3,
          3,
          3,
          3,
          3,
          3,
          3,
          4,
          4,
          4,
          4,
          4,
          4,
          4,
          4,
          4,
          5,
          5,
          5,
          5,
          5,
          5,
          5,
          5,
          5,
          6,
          6,
          6,
          6,
          6,
          6,
          6,
          6,
          6,
          7,
          7,
          7,
          7,
          7,
          7,
          7,
          7,
          7,
          8,
          8,
          8,
          8,
          8,
          8,
          8,
          8,
          8,
          0,
          0,
          0,
          0,
          0,
          0,
          0,
          0,
          0,
          0,
          0,
          0,
          0,
          0,
          0,
          0,
          0,
          0,
          0
         ],
         "y": [
          0,
          1,
          2,
          3,
          4,
          5,
          6,
          7,
          8,
          0,
          1,
          2,
          3,
          4,
          5,
          6,
          7,
          8,
          0,
          1,
          2,
          3,
          4,
          5,
          6,
          7,
          8,
          0,
          1,
          2,
          3,
          4,
          5,
          6,
          7,
          8,
          0,
          1,
          2,
          3,
          4,
          5,
          6,
          7,
          8,
          0,
          1,
          2,
          3,
          4,
          5,
          6,
          7,
          8,
          0,
          1,
          2,
          3,
          4,
          5,
          6,
          7,
          8,
          0,
          1,
          2,
          3,
          4,
          5,
          6,
          7,
          8,
          0,
          1,
          2,
          3,
          4,
          5,
          6,
          7,
          8,
          0,
          0,
          0,
          0,
          0,
          0,
          0,
          0,
          0,
          0,
          0,
          0,
          0,
          0,
          0,
          0,
          0,
          0,
          0
         ]
        },
        {
         "marker": {
          "color": [
           "red",
           "red",
           "red",
           "blue",
           "blue",
           "blue"
          ],
          "size": 10,
          "symbol": [
           "x",
           "x",
           "x",
           "x",
           "x",
           "x"
          ]
         },
         "mode": "markers",
         "name": "Data Points",
         "type": "scatter",
         "x": [
          2,
          3,
          4,
          1,
          2,
          3
         ],
         "y": [
          1,
          2,
          4,
          5,
          6,
          7
         ]
        }
       ],
       "layout": {
        "template": {
         "data": {
          "bar": [
           {
            "error_x": {
             "color": "#2a3f5f"
            },
            "error_y": {
             "color": "#2a3f5f"
            },
            "marker": {
             "line": {
              "color": "#E5ECF6",
              "width": 0.5
             },
             "pattern": {
              "fillmode": "overlay",
              "size": 10,
              "solidity": 0.2
             }
            },
            "type": "bar"
           }
          ],
          "barpolar": [
           {
            "marker": {
             "line": {
              "color": "#E5ECF6",
              "width": 0.5
             },
             "pattern": {
              "fillmode": "overlay",
              "size": 10,
              "solidity": 0.2
             }
            },
            "type": "barpolar"
           }
          ],
          "carpet": [
           {
            "aaxis": {
             "endlinecolor": "#2a3f5f",
             "gridcolor": "white",
             "linecolor": "white",
             "minorgridcolor": "white",
             "startlinecolor": "#2a3f5f"
            },
            "baxis": {
             "endlinecolor": "#2a3f5f",
             "gridcolor": "white",
             "linecolor": "white",
             "minorgridcolor": "white",
             "startlinecolor": "#2a3f5f"
            },
            "type": "carpet"
           }
          ],
          "choropleth": [
           {
            "colorbar": {
             "outlinewidth": 0,
             "ticks": ""
            },
            "type": "choropleth"
           }
          ],
          "contour": [
           {
            "colorbar": {
             "outlinewidth": 0,
             "ticks": ""
            },
            "colorscale": [
             [
              0,
              "#0d0887"
             ],
             [
              0.1111111111111111,
              "#46039f"
             ],
             [
              0.2222222222222222,
              "#7201a8"
             ],
             [
              0.3333333333333333,
              "#9c179e"
             ],
             [
              0.4444444444444444,
              "#bd3786"
             ],
             [
              0.5555555555555556,
              "#d8576b"
             ],
             [
              0.6666666666666666,
              "#ed7953"
             ],
             [
              0.7777777777777778,
              "#fb9f3a"
             ],
             [
              0.8888888888888888,
              "#fdca26"
             ],
             [
              1,
              "#f0f921"
             ]
            ],
            "type": "contour"
           }
          ],
          "contourcarpet": [
           {
            "colorbar": {
             "outlinewidth": 0,
             "ticks": ""
            },
            "type": "contourcarpet"
           }
          ],
          "heatmap": [
           {
            "colorbar": {
             "outlinewidth": 0,
             "ticks": ""
            },
            "colorscale": [
             [
              0,
              "#0d0887"
             ],
             [
              0.1111111111111111,
              "#46039f"
             ],
             [
              0.2222222222222222,
              "#7201a8"
             ],
             [
              0.3333333333333333,
              "#9c179e"
             ],
             [
              0.4444444444444444,
              "#bd3786"
             ],
             [
              0.5555555555555556,
              "#d8576b"
             ],
             [
              0.6666666666666666,
              "#ed7953"
             ],
             [
              0.7777777777777778,
              "#fb9f3a"
             ],
             [
              0.8888888888888888,
              "#fdca26"
             ],
             [
              1,
              "#f0f921"
             ]
            ],
            "type": "heatmap"
           }
          ],
          "heatmapgl": [
           {
            "colorbar": {
             "outlinewidth": 0,
             "ticks": ""
            },
            "colorscale": [
             [
              0,
              "#0d0887"
             ],
             [
              0.1111111111111111,
              "#46039f"
             ],
             [
              0.2222222222222222,
              "#7201a8"
             ],
             [
              0.3333333333333333,
              "#9c179e"
             ],
             [
              0.4444444444444444,
              "#bd3786"
             ],
             [
              0.5555555555555556,
              "#d8576b"
             ],
             [
              0.6666666666666666,
              "#ed7953"
             ],
             [
              0.7777777777777778,
              "#fb9f3a"
             ],
             [
              0.8888888888888888,
              "#fdca26"
             ],
             [
              1,
              "#f0f921"
             ]
            ],
            "type": "heatmapgl"
           }
          ],
          "histogram": [
           {
            "marker": {
             "pattern": {
              "fillmode": "overlay",
              "size": 10,
              "solidity": 0.2
             }
            },
            "type": "histogram"
           }
          ],
          "histogram2d": [
           {
            "colorbar": {
             "outlinewidth": 0,
             "ticks": ""
            },
            "colorscale": [
             [
              0,
              "#0d0887"
             ],
             [
              0.1111111111111111,
              "#46039f"
             ],
             [
              0.2222222222222222,
              "#7201a8"
             ],
             [
              0.3333333333333333,
              "#9c179e"
             ],
             [
              0.4444444444444444,
              "#bd3786"
             ],
             [
              0.5555555555555556,
              "#d8576b"
             ],
             [
              0.6666666666666666,
              "#ed7953"
             ],
             [
              0.7777777777777778,
              "#fb9f3a"
             ],
             [
              0.8888888888888888,
              "#fdca26"
             ],
             [
              1,
              "#f0f921"
             ]
            ],
            "type": "histogram2d"
           }
          ],
          "histogram2dcontour": [
           {
            "colorbar": {
             "outlinewidth": 0,
             "ticks": ""
            },
            "colorscale": [
             [
              0,
              "#0d0887"
             ],
             [
              0.1111111111111111,
              "#46039f"
             ],
             [
              0.2222222222222222,
              "#7201a8"
             ],
             [
              0.3333333333333333,
              "#9c179e"
             ],
             [
              0.4444444444444444,
              "#bd3786"
             ],
             [
              0.5555555555555556,
              "#d8576b"
             ],
             [
              0.6666666666666666,
              "#ed7953"
             ],
             [
              0.7777777777777778,
              "#fb9f3a"
             ],
             [
              0.8888888888888888,
              "#fdca26"
             ],
             [
              1,
              "#f0f921"
             ]
            ],
            "type": "histogram2dcontour"
           }
          ],
          "mesh3d": [
           {
            "colorbar": {
             "outlinewidth": 0,
             "ticks": ""
            },
            "type": "mesh3d"
           }
          ],
          "parcoords": [
           {
            "line": {
             "colorbar": {
              "outlinewidth": 0,
              "ticks": ""
             }
            },
            "type": "parcoords"
           }
          ],
          "pie": [
           {
            "automargin": true,
            "type": "pie"
           }
          ],
          "scatter": [
           {
            "fillpattern": {
             "fillmode": "overlay",
             "size": 10,
             "solidity": 0.2
            },
            "type": "scatter"
           }
          ],
          "scatter3d": [
           {
            "line": {
             "colorbar": {
              "outlinewidth": 0,
              "ticks": ""
             }
            },
            "marker": {
             "colorbar": {
              "outlinewidth": 0,
              "ticks": ""
             }
            },
            "type": "scatter3d"
           }
          ],
          "scattercarpet": [
           {
            "marker": {
             "colorbar": {
              "outlinewidth": 0,
              "ticks": ""
             }
            },
            "type": "scattercarpet"
           }
          ],
          "scattergeo": [
           {
            "marker": {
             "colorbar": {
              "outlinewidth": 0,
              "ticks": ""
             }
            },
            "type": "scattergeo"
           }
          ],
          "scattergl": [
           {
            "marker": {
             "colorbar": {
              "outlinewidth": 0,
              "ticks": ""
             }
            },
            "type": "scattergl"
           }
          ],
          "scattermapbox": [
           {
            "marker": {
             "colorbar": {
              "outlinewidth": 0,
              "ticks": ""
             }
            },
            "type": "scattermapbox"
           }
          ],
          "scatterpolar": [
           {
            "marker": {
             "colorbar": {
              "outlinewidth": 0,
              "ticks": ""
             }
            },
            "type": "scatterpolar"
           }
          ],
          "scatterpolargl": [
           {
            "marker": {
             "colorbar": {
              "outlinewidth": 0,
              "ticks": ""
             }
            },
            "type": "scatterpolargl"
           }
          ],
          "scatterternary": [
           {
            "marker": {
             "colorbar": {
              "outlinewidth": 0,
              "ticks": ""
             }
            },
            "type": "scatterternary"
           }
          ],
          "surface": [
           {
            "colorbar": {
             "outlinewidth": 0,
             "ticks": ""
            },
            "colorscale": [
             [
              0,
              "#0d0887"
             ],
             [
              0.1111111111111111,
              "#46039f"
             ],
             [
              0.2222222222222222,
              "#7201a8"
             ],
             [
              0.3333333333333333,
              "#9c179e"
             ],
             [
              0.4444444444444444,
              "#bd3786"
             ],
             [
              0.5555555555555556,
              "#d8576b"
             ],
             [
              0.6666666666666666,
              "#ed7953"
             ],
             [
              0.7777777777777778,
              "#fb9f3a"
             ],
             [
              0.8888888888888888,
              "#fdca26"
             ],
             [
              1,
              "#f0f921"
             ]
            ],
            "type": "surface"
           }
          ],
          "table": [
           {
            "cells": {
             "fill": {
              "color": "#EBF0F8"
             },
             "line": {
              "color": "white"
             }
            },
            "header": {
             "fill": {
              "color": "#C8D4E3"
             },
             "line": {
              "color": "white"
             }
            },
            "type": "table"
           }
          ]
         },
         "layout": {
          "annotationdefaults": {
           "arrowcolor": "#2a3f5f",
           "arrowhead": 0,
           "arrowwidth": 1
          },
          "autotypenumbers": "strict",
          "coloraxis": {
           "colorbar": {
            "outlinewidth": 0,
            "ticks": ""
           }
          },
          "colorscale": {
           "diverging": [
            [
             0,
             "#8e0152"
            ],
            [
             0.1,
             "#c51b7d"
            ],
            [
             0.2,
             "#de77ae"
            ],
            [
             0.3,
             "#f1b6da"
            ],
            [
             0.4,
             "#fde0ef"
            ],
            [
             0.5,
             "#f7f7f7"
            ],
            [
             0.6,
             "#e6f5d0"
            ],
            [
             0.7,
             "#b8e186"
            ],
            [
             0.8,
             "#7fbc41"
            ],
            [
             0.9,
             "#4d9221"
            ],
            [
             1,
             "#276419"
            ]
           ],
           "sequential": [
            [
             0,
             "#0d0887"
            ],
            [
             0.1111111111111111,
             "#46039f"
            ],
            [
             0.2222222222222222,
             "#7201a8"
            ],
            [
             0.3333333333333333,
             "#9c179e"
            ],
            [
             0.4444444444444444,
             "#bd3786"
            ],
            [
             0.5555555555555556,
             "#d8576b"
            ],
            [
             0.6666666666666666,
             "#ed7953"
            ],
            [
             0.7777777777777778,
             "#fb9f3a"
            ],
            [
             0.8888888888888888,
             "#fdca26"
            ],
            [
             1,
             "#f0f921"
            ]
           ],
           "sequentialminus": [
            [
             0,
             "#0d0887"
            ],
            [
             0.1111111111111111,
             "#46039f"
            ],
            [
             0.2222222222222222,
             "#7201a8"
            ],
            [
             0.3333333333333333,
             "#9c179e"
            ],
            [
             0.4444444444444444,
             "#bd3786"
            ],
            [
             0.5555555555555556,
             "#d8576b"
            ],
            [
             0.6666666666666666,
             "#ed7953"
            ],
            [
             0.7777777777777778,
             "#fb9f3a"
            ],
            [
             0.8888888888888888,
             "#fdca26"
            ],
            [
             1,
             "#f0f921"
            ]
           ]
          },
          "colorway": [
           "#636efa",
           "#EF553B",
           "#00cc96",
           "#ab63fa",
           "#FFA15A",
           "#19d3f3",
           "#FF6692",
           "#B6E880",
           "#FF97FF",
           "#FECB52"
          ],
          "font": {
           "color": "#2a3f5f"
          },
          "geo": {
           "bgcolor": "white",
           "lakecolor": "white",
           "landcolor": "#E5ECF6",
           "showlakes": true,
           "showland": true,
           "subunitcolor": "white"
          },
          "hoverlabel": {
           "align": "left"
          },
          "hovermode": "closest",
          "mapbox": {
           "style": "light"
          },
          "paper_bgcolor": "white",
          "plot_bgcolor": "#E5ECF6",
          "polar": {
           "angularaxis": {
            "gridcolor": "white",
            "linecolor": "white",
            "ticks": ""
           },
           "bgcolor": "#E5ECF6",
           "radialaxis": {
            "gridcolor": "white",
            "linecolor": "white",
            "ticks": ""
           }
          },
          "scene": {
           "xaxis": {
            "backgroundcolor": "#E5ECF6",
            "gridcolor": "white",
            "gridwidth": 2,
            "linecolor": "white",
            "showbackground": true,
            "ticks": "",
            "zerolinecolor": "white"
           },
           "yaxis": {
            "backgroundcolor": "#E5ECF6",
            "gridcolor": "white",
            "gridwidth": 2,
            "linecolor": "white",
            "showbackground": true,
            "ticks": "",
            "zerolinecolor": "white"
           },
           "zaxis": {
            "backgroundcolor": "#E5ECF6",
            "gridcolor": "white",
            "gridwidth": 2,
            "linecolor": "white",
            "showbackground": true,
            "ticks": "",
            "zerolinecolor": "white"
           }
          },
          "shapedefaults": {
           "line": {
            "color": "#2a3f5f"
           }
          },
          "ternary": {
           "aaxis": {
            "gridcolor": "white",
            "linecolor": "white",
            "ticks": ""
           },
           "baxis": {
            "gridcolor": "white",
            "linecolor": "white",
            "ticks": ""
           },
           "bgcolor": "#E5ECF6",
           "caxis": {
            "gridcolor": "white",
            "linecolor": "white",
            "ticks": ""
           }
          },
          "title": {
           "x": 0.05
          },
          "xaxis": {
           "automargin": true,
           "gridcolor": "white",
           "linecolor": "white",
           "ticks": "",
           "title": {
            "standoff": 15
           },
           "zerolinecolor": "white",
           "zerolinewidth": 2
          },
          "yaxis": {
           "automargin": true,
           "gridcolor": "white",
           "linecolor": "white",
           "ticks": "",
           "title": {
            "standoff": 15
           },
           "zerolinecolor": "white",
           "zerolinewidth": 2
          }
         }
        }
       }
      }
     },
     "metadata": {},
     "output_type": "display_data"
    }
   ],
   "source": [
    "max_range = 10 \n",
    "x1 = np.zeros(max_range * 10)\n",
    "x2 = np.zeros(max_range * 10)\n",
    "\n",
    "count = 0\n",
    "for i in range(max_range - 1):\n",
    "    for j in range(max_range - 1):\n",
    "        x1[count] = i\n",
    "        x2[count] = j\n",
    "        count += 1\n",
    "\n",
    "z = np.dot(np.array([x1, x2]).T, w) + b\n",
    "h = 1 / (1 + np.exp(-z))\n",
    "p = [1 if i > 0.5 else 0 for i in h]\n",
    "\n",
    "# Create the figure\n",
    "fig = go.Figure()\n",
    "\n",
    "# Add scatter plot\n",
    "fig.add_trace(go.Scatter(\n",
    "    x=x1,\n",
    "    y=x2,\n",
    "    mode='markers',\n",
    "    name='X range',\n",
    "    marker=dict(color=p ,colorscale=['blue', 'red'])  # Configure marker colors\n",
    "))\n",
    "\n",
    "marker_symbols = df['y'].map({1: 'x', 0: 'x'})  # or any other symbol you prefer\n",
    "marker_colors = df['y'].map({1: 'red', 0: 'blue'})\n",
    "# Add scatter plot\n",
    "fig.add_trace(go.Scatter(\n",
    "    x=df['x1'],\n",
    "    y=df['x2'],\n",
    "    mode='markers',\n",
    "    name='Data Points',\n",
    "    marker=dict(symbol=marker_symbols, color=marker_colors, size=10)\n",
    "))\n",
    "\n",
    "# Show the figure\n",
    "fig.show()"
   ]
  },
  {
   "cell_type": "code",
   "execution_count": 40,
   "metadata": {},
   "outputs": [
    {
     "data": {
      "image/png": "[encoded data removed]",
      "text/plain": [
       "<Figure size 640x480 with 1 Axes>"
      ]
     },
     "metadata": {},
     "output_type": "display_data"
    }
   ],
   "source": [
    "x, y = np.meshgrid(np.arange(0,10,0.1), np.arange(0,10,0.1))\n",
    "\n",
    "z = np.dot(np.array([x, y]).T, w) + b\n",
    "h = 1 / (1 + np.exp(-z))\n",
    "\n",
    "import matplotlib.pyplot as plt\n",
    "\n",
    "# add scatter plot on top of this from dataframe\n",
    "plt.scatter(df['x1'], df['x2'], c=df['y'], cmap='bwr')\n",
    "\n",
    "plt.contour(x, y, h)\n",
    "plt.xlabel('x1')\n",
    "plt.ylabel('x2')\n",
    "plt.title('Contour Plot')\n",
    "plt.show()"
   ]
  }
 ],
 "metadata": {
  "kernelspec": {
   "display_name": "Python 3",
   "language": "python",
   "name": "python3"
  },
  "language_info": {
   "codemirror_mode": {
    "name": "ipython",
    "version": 3
   },
   "file_extension": ".py",
   "mimetype": "text/x-python",
   "name": "python",
   "nbconvert_exporter": "python",
   "pygments_lexer": "ipython3",
   "version": "3.11.9"
  }
 },
 "nbformat": 4,
 "nbformat_minor": 2
}
