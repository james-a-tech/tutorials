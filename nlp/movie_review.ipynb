{
 "cells": [
  {
   "cell_type": "markdown",
   "metadata": {},
   "source": [
    "# Movie sentimental classfication"
   ]
  },
  {
   "cell_type": "code",
   "execution_count": 61,
   "metadata": {},
   "outputs": [
    {
     "name": "stdout",
     "output_type": "stream",
     "text": [
      "Index(['review', 'sentiment'], dtype='object')\n"
     ]
    },
    {
     "data": {
      "text/html": [
       "<div>\n",
       "<style scoped>\n",
       "    .dataframe tbody tr th:only-of-type {\n",
       "        vertical-align: middle;\n",
       "    }\n",
       "\n",
       "    .dataframe tbody tr th {\n",
       "        vertical-align: top;\n",
       "    }\n",
       "\n",
       "    .dataframe thead th {\n",
       "        text-align: right;\n",
       "    }\n",
       "</style>\n",
       "<table border=\"1\" class=\"dataframe\">\n",
       "  <thead>\n",
       "    <tr style=\"text-align: right;\">\n",
       "      <th></th>\n",
       "      <th>No</th>\n",
       "      <th>review</th>\n",
       "      <th>sentiment</th>\n",
       "    </tr>\n",
       "  </thead>\n",
       "  <tbody>\n",
       "    <tr>\n",
       "      <th>0</th>\n",
       "      <td>1</td>\n",
       "      <td>Movie was boring</td>\n",
       "      <td>Negative</td>\n",
       "    </tr>\n",
       "    <tr>\n",
       "      <th>1</th>\n",
       "      <td>2</td>\n",
       "      <td>Movie actions were very good</td>\n",
       "      <td>Positive</td>\n",
       "    </tr>\n",
       "    <tr>\n",
       "      <th>2</th>\n",
       "      <td>3</td>\n",
       "      <td>Movie was good</td>\n",
       "      <td>Positive</td>\n",
       "    </tr>\n",
       "    <tr>\n",
       "      <th>3</th>\n",
       "      <td>4</td>\n",
       "      <td>Movie story was very bad</td>\n",
       "      <td>Negative</td>\n",
       "    </tr>\n",
       "  </tbody>\n",
       "</table>\n",
       "</div>"
      ],
      "text/plain": [
       "   No                        review sentiment\n",
       "0   1              Movie was boring  Negative\n",
       "1   2  Movie actions were very good  Positive\n",
       "2   3                Movie was good  Positive\n",
       "3   4      Movie story was very bad  Negative"
      ]
     },
     "execution_count": 61,
     "metadata": {},
     "output_type": "execute_result"
    }
   ],
   "source": [
    "import pandas as pd\n",
    "\n",
    "df = pd.read_csv('IMDB_Dataset.csv')\n",
    "\n",
    "print(df.columns)\n",
    "\n",
    "# comment the below lines if you want to try this in large datasets\n",
    "data = {\n",
    "    \"No\": [1, 2, 3, 4],\n",
    "    \"review\": [\n",
    "        \"Movie was boring\",\n",
    "        \"Movie actions were very good\",\n",
    "        \"Movie was good\",\n",
    "        \"Movie story was very bad\"\n",
    "    ],\n",
    "    \"sentiment\": [\"Negative\", \"Positive\", \"Positive\", \"Negative\"]\n",
    "}\n",
    "# Create DataFrame\n",
    "df = pd.DataFrame(data)\n",
    "\n",
    "df "
   ]
  },
  {
   "cell_type": "markdown",
   "metadata": {},
   "source": [
    "Getting the vocabulary from the unique values from the text input"
   ]
  },
  {
   "cell_type": "code",
   "execution_count": 62,
   "metadata": {},
   "outputs": [
    {
     "name": "stdout",
     "output_type": "stream",
     "text": [
      "Voculary: ['Movie' 'was' 'boring' 'were' 'good' 'very' 'actions' 'bad' 'story']\n",
      "Vocabulary size: 9\n"
     ]
    }
   ],
   "source": [
    "sent_tokens = df.review.map(lambda x: set(x.split(' ')))\n",
    "vocab = sent_tokens.explode().unique()\n",
    "print(f'Voculary: {vocab}')\n",
    "print(f'Vocabulary size: {vocab.shape[0]}')"
   ]
  },
  {
   "cell_type": "markdown",
   "metadata": {},
   "source": [
    "Assiging index values to each unique words in the vocabulary"
   ]
  },
  {
   "cell_type": "code",
   "execution_count": 63,
   "metadata": {},
   "outputs": [
    {
     "data": {
      "text/plain": [
       "{'Movie': 0,\n",
       " 'was': 1,\n",
       " 'boring': 2,\n",
       " 'were': 3,\n",
       " 'good': 4,\n",
       " 'very': 5,\n",
       " 'actions': 6,\n",
       " 'bad': 7,\n",
       " 'story': 8}"
      ]
     },
     "execution_count": 63,
     "metadata": {},
     "output_type": "execute_result"
    }
   ],
   "source": [
    "word_index = {}\n",
    "for index , words in enumerate(vocab):\n",
    "    word_index[words] = index\n",
    "\n",
    "word_index"
   ]
  },
  {
   "cell_type": "markdown",
   "metadata": {},
   "source": [
    "Assigning index values for each words in the sentences , therby converting text into vector representation"
   ]
  },
  {
   "cell_type": "code",
   "execution_count": 64,
   "metadata": {},
   "outputs": [
    {
     "name": "stdout",
     "output_type": "stream",
     "text": [
      "Sentences string representation\n",
      "0                  {Movie, was, boring}\n",
      "1    {were, good, very, Movie, actions}\n",
      "2                    {Movie, was, good}\n",
      "3        {was, very, bad, Movie, story}\n",
      "Name: review, dtype: object\n",
      "Sentences number representation\n",
      "0          [0, 1, 2]\n",
      "1    [3, 4, 5, 0, 6]\n",
      "2          [0, 1, 4]\n",
      "3    [1, 5, 7, 0, 8]\n",
      "Name: review, dtype: object\n"
     ]
    }
   ],
   "source": [
    "sent_indices = sent_tokens.map(lambda x: [word_index[word] for word in x])\n",
    "\n",
    "print('Sentences string representation') \n",
    "print(sent_tokens)\n",
    "\n",
    "print('Sentences number representation')\n",
    "print(sent_indices)"
   ]
  },
  {
   "cell_type": "markdown",
   "metadata": {},
   "source": [
    "Converting postive and negatives to 1 and 0 respectively"
   ]
  },
  {
   "cell_type": "code",
   "execution_count": 65,
   "metadata": {},
   "outputs": [
    {
     "data": {
      "text/plain": [
       "0    0\n",
       "1    1\n",
       "2    1\n",
       "3    0\n",
       "Name: sentiment, dtype: int64"
      ]
     },
     "execution_count": 65,
     "metadata": {},
     "output_type": "execute_result"
    }
   ],
   "source": [
    "target = df.sentiment.map(lambda x: 1 if x == 'Positive' else 0)\n",
    "target"
   ]
  },
  {
   "cell_type": "markdown",
   "metadata": {},
   "source": [
    "# Model development"
   ]
  },
  {
   "cell_type": "markdown",
   "metadata": {},
   "source": [
    "Weights Initialization"
   ]
  },
  {
   "cell_type": "code",
   "execution_count": 66,
   "metadata": {},
   "outputs": [
    {
     "data": {
      "text/html": [
       "<div>\n",
       "<style scoped>\n",
       "    .dataframe tbody tr th:only-of-type {\n",
       "        vertical-align: middle;\n",
       "    }\n",
       "\n",
       "    .dataframe tbody tr th {\n",
       "        vertical-align: top;\n",
       "    }\n",
       "\n",
       "    .dataframe thead th {\n",
       "        text-align: right;\n",
       "    }\n",
       "</style>\n",
       "<table border=\"1\" class=\"dataframe\">\n",
       "  <thead>\n",
       "    <tr style=\"text-align: right;\">\n",
       "      <th></th>\n",
       "      <th>0</th>\n",
       "      <th>1</th>\n",
       "      <th>2</th>\n",
       "      <th>3</th>\n",
       "      <th>4</th>\n",
       "      <th>5</th>\n",
       "      <th>6</th>\n",
       "      <th>7</th>\n",
       "      <th>8</th>\n",
       "      <th>9</th>\n",
       "    </tr>\n",
       "  </thead>\n",
       "  <tbody>\n",
       "    <tr>\n",
       "      <th>0</th>\n",
       "      <td>-0.073980</td>\n",
       "      <td>0.098261</td>\n",
       "      <td>0.092965</td>\n",
       "      <td>-0.066388</td>\n",
       "      <td>-0.011961</td>\n",
       "      <td>-0.088054</td>\n",
       "      <td>-0.003089</td>\n",
       "      <td>-0.043435</td>\n",
       "      <td>-0.071920</td>\n",
       "      <td>0.081986</td>\n",
       "    </tr>\n",
       "    <tr>\n",
       "      <th>1</th>\n",
       "      <td>0.030255</td>\n",
       "      <td>-0.014901</td>\n",
       "      <td>-0.010139</td>\n",
       "      <td>0.051264</td>\n",
       "      <td>0.032952</td>\n",
       "      <td>-0.020704</td>\n",
       "      <td>0.053456</td>\n",
       "      <td>0.034872</td>\n",
       "      <td>-0.034435</td>\n",
       "      <td>-0.052285</td>\n",
       "    </tr>\n",
       "    <tr>\n",
       "      <th>2</th>\n",
       "      <td>0.067736</td>\n",
       "      <td>-0.064053</td>\n",
       "      <td>0.078827</td>\n",
       "      <td>0.077187</td>\n",
       "      <td>0.033873</td>\n",
       "      <td>0.067507</td>\n",
       "      <td>0.002935</td>\n",
       "      <td>-0.022488</td>\n",
       "      <td>-0.012487</td>\n",
       "      <td>0.075166</td>\n",
       "    </tr>\n",
       "    <tr>\n",
       "      <th>3</th>\n",
       "      <td>-0.069594</td>\n",
       "      <td>-0.032719</td>\n",
       "      <td>0.070568</td>\n",
       "      <td>-0.018031</td>\n",
       "      <td>0.079513</td>\n",
       "      <td>-0.076135</td>\n",
       "      <td>-0.002726</td>\n",
       "      <td>0.032917</td>\n",
       "      <td>0.047635</td>\n",
       "      <td>-0.037925</td>\n",
       "    </tr>\n",
       "    <tr>\n",
       "      <th>4</th>\n",
       "      <td>-0.031110</td>\n",
       "      <td>0.018861</td>\n",
       "      <td>0.016609</td>\n",
       "      <td>-0.029621</td>\n",
       "      <td>0.038772</td>\n",
       "      <td>0.083610</td>\n",
       "      <td>-0.057170</td>\n",
       "      <td>0.079690</td>\n",
       "      <td>0.067313</td>\n",
       "      <td>-0.007265</td>\n",
       "    </tr>\n",
       "    <tr>\n",
       "      <th>5</th>\n",
       "      <td>-0.076487</td>\n",
       "      <td>0.055454</td>\n",
       "      <td>0.034650</td>\n",
       "      <td>0.028094</td>\n",
       "      <td>-0.093070</td>\n",
       "      <td>-0.038858</td>\n",
       "      <td>-0.053667</td>\n",
       "      <td>0.091784</td>\n",
       "      <td>-0.097305</td>\n",
       "      <td>-0.048323</td>\n",
       "    </tr>\n",
       "    <tr>\n",
       "      <th>6</th>\n",
       "      <td>0.017615</td>\n",
       "      <td>-0.065482</td>\n",
       "      <td>-0.033781</td>\n",
       "      <td>0.001049</td>\n",
       "      <td>-0.039667</td>\n",
       "      <td>0.018366</td>\n",
       "      <td>-0.067613</td>\n",
       "      <td>0.079818</td>\n",
       "      <td>-0.054230</td>\n",
       "      <td>-0.091680</td>\n",
       "    </tr>\n",
       "    <tr>\n",
       "      <th>7</th>\n",
       "      <td>-0.097806</td>\n",
       "      <td>-0.019705</td>\n",
       "      <td>-0.047896</td>\n",
       "      <td>-0.059787</td>\n",
       "      <td>-0.060634</td>\n",
       "      <td>0.019132</td>\n",
       "      <td>0.038606</td>\n",
       "      <td>0.081531</td>\n",
       "      <td>-0.085805</td>\n",
       "      <td>0.001163</td>\n",
       "    </tr>\n",
       "    <tr>\n",
       "      <th>8</th>\n",
       "      <td>-0.038481</td>\n",
       "      <td>-0.017671</td>\n",
       "      <td>0.081217</td>\n",
       "      <td>0.053139</td>\n",
       "      <td>-0.009114</td>\n",
       "      <td>-0.029167</td>\n",
       "      <td>0.011763</td>\n",
       "      <td>-0.052071</td>\n",
       "      <td>-0.069424</td>\n",
       "      <td>0.094191</td>\n",
       "    </tr>\n",
       "  </tbody>\n",
       "</table>\n",
       "</div>"
      ],
      "text/plain": [
       "          0         1         2         3         4         5         6  \\\n",
       "0 -0.073980  0.098261  0.092965 -0.066388 -0.011961 -0.088054 -0.003089   \n",
       "1  0.030255 -0.014901 -0.010139  0.051264  0.032952 -0.020704  0.053456   \n",
       "2  0.067736 -0.064053  0.078827  0.077187  0.033873  0.067507  0.002935   \n",
       "3 -0.069594 -0.032719  0.070568 -0.018031  0.079513 -0.076135 -0.002726   \n",
       "4 -0.031110  0.018861  0.016609 -0.029621  0.038772  0.083610 -0.057170   \n",
       "5 -0.076487  0.055454  0.034650  0.028094 -0.093070 -0.038858 -0.053667   \n",
       "6  0.017615 -0.065482 -0.033781  0.001049 -0.039667  0.018366 -0.067613   \n",
       "7 -0.097806 -0.019705 -0.047896 -0.059787 -0.060634  0.019132  0.038606   \n",
       "8 -0.038481 -0.017671  0.081217  0.053139 -0.009114 -0.029167  0.011763   \n",
       "\n",
       "          7         8         9  \n",
       "0 -0.043435 -0.071920  0.081986  \n",
       "1  0.034872 -0.034435 -0.052285  \n",
       "2 -0.022488 -0.012487  0.075166  \n",
       "3  0.032917  0.047635 -0.037925  \n",
       "4  0.079690  0.067313 -0.007265  \n",
       "5  0.091784 -0.097305 -0.048323  \n",
       "6  0.079818 -0.054230 -0.091680  \n",
       "7  0.081531 -0.085805  0.001163  \n",
       "8 -0.052071 -0.069424  0.094191  "
      ]
     },
     "execution_count": 66,
     "metadata": {},
     "output_type": "execute_result"
    }
   ],
   "source": [
    "import numpy as np\n",
    "\n",
    "# increase the hidden size for caputring more features\n",
    "hidden_size = 10\n",
    "\n",
    "weights_0_1 = 0.2*np.random.random((len(vocab),hidden_size)) - 0.1\n",
    "weights_1_2 = 0.2*np.random.random((hidden_size,1)) - 0.1\n",
    "\n",
    "pd.DataFrame(weights_0_1)"
   ]
  },
  {
   "cell_type": "markdown",
   "metadata": {},
   "source": [
    "Neural network to compute the sentiments from the reviews"
   ]
  },
  {
   "cell_type": "code",
   "execution_count": 67,
   "metadata": {},
   "outputs": [
    {
     "name": "stdout",
     "output_type": "stream",
     "text": [
      "Iteration: 0, Accuracy: 0.75\n",
      "Iteration: 1, Accuracy: 0.75\n"
     ]
    }
   ],
   "source": [
    "alpha, iteration = 0.1, 2\n",
    "\n",
    "def sigmoid(x):\n",
    "    return 1/(1+np.exp(-x))\n",
    "\n",
    "def neural_network(x,y):\n",
    "\n",
    "    global weights_0_1, weights_1_2 \n",
    "\n",
    "    # print(f'Input: len = {len(x)} , data = {x}')\n",
    "\n",
    "    layer_1 = sigmoid(np.sum(weights_0_1[x],axis=0))\n",
    "    # print(f'Layer 1 shape: {layer_1.shape}')\n",
    "    layer_2 = sigmoid(np.dot(layer_1,weights_1_2))\n",
    "    \n",
    "    layer_2_delta = layer_2 - y\n",
    "    # print(f'weights_1_2 shape: {weights_1_2.T.shape}')\n",
    "\n",
    "    layer_1_delta = layer_2_delta.dot(weights_1_2.T)  \n",
    "    # print(f'layer_1_delta shape: {layer_1_delta.shape}')\n",
    "\n",
    "    weights_1_2 -= np.outer(layer_1 , layer_2_delta) * alpha\n",
    "    weights_0_1[x] -= layer_1_delta * alpha\n",
    "\n",
    "    return layer_2\n",
    "\n",
    "correct , total = 0, 0\n",
    "for i in range(iteration):\n",
    "    for x,y in zip(sent_indices,target):\n",
    "        output = neural_network(x,y)\n",
    "\n",
    "        # print(np.abs(output))\n",
    "        correct += 1 if np.abs(output) < 0.5 else 0\n",
    "        total += 1\n",
    "\n",
    "    print(f'Iteration: {i}, Accuracy: {correct/total}')\n",
    "    correct , total = 0, 0\n"
   ]
  },
  {
   "cell_type": "markdown",
   "metadata": {},
   "source": [
    "Display emebeding matrix"
   ]
  },
  {
   "cell_type": "code",
   "execution_count": 68,
   "metadata": {},
   "outputs": [
    {
     "data": {
      "text/html": [
       "<div>\n",
       "<style scoped>\n",
       "    .dataframe tbody tr th:only-of-type {\n",
       "        vertical-align: middle;\n",
       "    }\n",
       "\n",
       "    .dataframe tbody tr th {\n",
       "        vertical-align: top;\n",
       "    }\n",
       "\n",
       "    .dataframe thead th {\n",
       "        text-align: right;\n",
       "    }\n",
       "</style>\n",
       "<table border=\"1\" class=\"dataframe\">\n",
       "  <thead>\n",
       "    <tr style=\"text-align: right;\">\n",
       "      <th></th>\n",
       "      <th>0</th>\n",
       "      <th>1</th>\n",
       "      <th>2</th>\n",
       "      <th>3</th>\n",
       "      <th>4</th>\n",
       "      <th>5</th>\n",
       "      <th>6</th>\n",
       "      <th>7</th>\n",
       "      <th>8</th>\n",
       "      <th>9</th>\n",
       "    </tr>\n",
       "  </thead>\n",
       "  <tbody>\n",
       "    <tr>\n",
       "      <th>0</th>\n",
       "      <td>-0.080064</td>\n",
       "      <td>0.092425</td>\n",
       "      <td>0.087963</td>\n",
       "      <td>-0.071892</td>\n",
       "      <td>-0.017311</td>\n",
       "      <td>-0.093082</td>\n",
       "      <td>-0.008635</td>\n",
       "      <td>-0.048848</td>\n",
       "      <td>-0.076932</td>\n",
       "      <td>0.076082</td>\n",
       "    </tr>\n",
       "    <tr>\n",
       "      <th>1</th>\n",
       "      <td>0.036322</td>\n",
       "      <td>-0.013895</td>\n",
       "      <td>-0.019223</td>\n",
       "      <td>0.050621</td>\n",
       "      <td>0.029311</td>\n",
       "      <td>-0.025056</td>\n",
       "      <td>0.052827</td>\n",
       "      <td>0.032721</td>\n",
       "      <td>-0.037771</td>\n",
       "      <td>-0.050471</td>\n",
       "    </tr>\n",
       "    <tr>\n",
       "      <th>2</th>\n",
       "      <td>0.076210</td>\n",
       "      <td>-0.060315</td>\n",
       "      <td>0.072643</td>\n",
       "      <td>0.079107</td>\n",
       "      <td>0.032985</td>\n",
       "      <td>0.065809</td>\n",
       "      <td>0.004916</td>\n",
       "      <td>-0.021887</td>\n",
       "      <td>-0.013202</td>\n",
       "      <td>0.079587</td>\n",
       "    </tr>\n",
       "    <tr>\n",
       "      <th>3</th>\n",
       "      <td>-0.081745</td>\n",
       "      <td>-0.039562</td>\n",
       "      <td>0.074650</td>\n",
       "      <td>-0.022892</td>\n",
       "      <td>0.077805</td>\n",
       "      <td>-0.076810</td>\n",
       "      <td>-0.007644</td>\n",
       "      <td>0.029654</td>\n",
       "      <td>0.045960</td>\n",
       "      <td>-0.045643</td>\n",
       "    </tr>\n",
       "    <tr>\n",
       "      <th>4</th>\n",
       "      <td>-0.052279</td>\n",
       "      <td>0.008437</td>\n",
       "      <td>0.027569</td>\n",
       "      <td>-0.036416</td>\n",
       "      <td>0.038188</td>\n",
       "      <td>0.084930</td>\n",
       "      <td>-0.064210</td>\n",
       "      <td>0.076453</td>\n",
       "      <td>0.066679</td>\n",
       "      <td>-0.019637</td>\n",
       "    </tr>\n",
       "    <tr>\n",
       "      <th>5</th>\n",
       "      <td>-0.082027</td>\n",
       "      <td>0.049461</td>\n",
       "      <td>0.028955</td>\n",
       "      <td>0.022602</td>\n",
       "      <td>-0.098656</td>\n",
       "      <td>-0.044184</td>\n",
       "      <td>-0.059072</td>\n",
       "      <td>0.085743</td>\n",
       "      <td>-0.102644</td>\n",
       "      <td>-0.053994</td>\n",
       "    </tr>\n",
       "    <tr>\n",
       "      <th>6</th>\n",
       "      <td>0.005463</td>\n",
       "      <td>-0.072325</td>\n",
       "      <td>-0.029698</td>\n",
       "      <td>-0.003813</td>\n",
       "      <td>-0.041375</td>\n",
       "      <td>0.017691</td>\n",
       "      <td>-0.072530</td>\n",
       "      <td>0.076554</td>\n",
       "      <td>-0.055906</td>\n",
       "      <td>-0.099399</td>\n",
       "    </tr>\n",
       "    <tr>\n",
       "      <th>7</th>\n",
       "      <td>-0.091195</td>\n",
       "      <td>-0.018855</td>\n",
       "      <td>-0.057673</td>\n",
       "      <td>-0.060417</td>\n",
       "      <td>-0.064512</td>\n",
       "      <td>0.014482</td>\n",
       "      <td>0.038118</td>\n",
       "      <td>0.078754</td>\n",
       "      <td>-0.089468</td>\n",
       "      <td>0.003210</td>\n",
       "    </tr>\n",
       "    <tr>\n",
       "      <th>8</th>\n",
       "      <td>-0.031870</td>\n",
       "      <td>-0.016822</td>\n",
       "      <td>0.071439</td>\n",
       "      <td>0.052509</td>\n",
       "      <td>-0.012991</td>\n",
       "      <td>-0.033818</td>\n",
       "      <td>0.011275</td>\n",
       "      <td>-0.054848</td>\n",
       "      <td>-0.073087</td>\n",
       "      <td>0.096238</td>\n",
       "    </tr>\n",
       "  </tbody>\n",
       "</table>\n",
       "</div>"
      ],
      "text/plain": [
       "          0         1         2         3         4         5         6  \\\n",
       "0 -0.080064  0.092425  0.087963 -0.071892 -0.017311 -0.093082 -0.008635   \n",
       "1  0.036322 -0.013895 -0.019223  0.050621  0.029311 -0.025056  0.052827   \n",
       "2  0.076210 -0.060315  0.072643  0.079107  0.032985  0.065809  0.004916   \n",
       "3 -0.081745 -0.039562  0.074650 -0.022892  0.077805 -0.076810 -0.007644   \n",
       "4 -0.052279  0.008437  0.027569 -0.036416  0.038188  0.084930 -0.064210   \n",
       "5 -0.082027  0.049461  0.028955  0.022602 -0.098656 -0.044184 -0.059072   \n",
       "6  0.005463 -0.072325 -0.029698 -0.003813 -0.041375  0.017691 -0.072530   \n",
       "7 -0.091195 -0.018855 -0.057673 -0.060417 -0.064512  0.014482  0.038118   \n",
       "8 -0.031870 -0.016822  0.071439  0.052509 -0.012991 -0.033818  0.011275   \n",
       "\n",
       "          7         8         9  \n",
       "0 -0.048848 -0.076932  0.076082  \n",
       "1  0.032721 -0.037771 -0.050471  \n",
       "2 -0.021887 -0.013202  0.079587  \n",
       "3  0.029654  0.045960 -0.045643  \n",
       "4  0.076453  0.066679 -0.019637  \n",
       "5  0.085743 -0.102644 -0.053994  \n",
       "6  0.076554 -0.055906 -0.099399  \n",
       "7  0.078754 -0.089468  0.003210  \n",
       "8 -0.054848 -0.073087  0.096238  "
      ]
     },
     "execution_count": 68,
     "metadata": {},
     "output_type": "execute_result"
    }
   ],
   "source": [
    "pd.DataFrame(weights_0_1)"
   ]
  },
  {
   "cell_type": "markdown",
   "metadata": {},
   "source": [
    "Comparing similarity b/w words using Euclidian distances"
   ]
  },
  {
   "cell_type": "code",
   "execution_count": 69,
   "metadata": {},
   "outputs": [],
   "source": [
    "from collections import Counter \n",
    "import math \n",
    "\n",
    "def similar(target='beautiful'):\n",
    "    target_index = word_index[target] \n",
    "    scores = Counter() \n",
    "    for word,index in word_index.items(): \n",
    "        raw_difference = weights_0_1[index] - (weights_0_1[target_index]) \n",
    "        squared_difference = raw_difference * raw_difference \n",
    "        scores[word] = -math.sqrt(sum(squared_difference)) \n",
    "    return scores.most_common(10)"
   ]
  },
  {
   "cell_type": "code",
   "execution_count": 70,
   "metadata": {},
   "outputs": [
    {
     "data": {
      "text/plain": [
       "[('good', -0.0),\n",
       " ('were', -0.1994909518660217),\n",
       " ('actions', -0.21565912894940956),\n",
       " ('was', -0.2403334666017908),\n",
       " ('bad', -0.24696548797785692),\n",
       " ('boring', -0.26015675652639186),\n",
       " ('very', -0.267232047083485),\n",
       " ('story', -0.28897536349704966),\n",
       " ('Movie', -0.3099607603734129)]"
      ]
     },
     "execution_count": 70,
     "metadata": {},
     "output_type": "execute_result"
    }
   ],
   "source": [
    "similar('good')"
   ]
  }
 ],
 "metadata": {
  "kernelspec": {
   "display_name": ".venv",
   "language": "python",
   "name": "python3"
  },
  "language_info": {
   "codemirror_mode": {
    "name": "ipython",
    "version": 3
   },
   "file_extension": ".py",
   "mimetype": "text/x-python",
   "name": "python",
   "nbconvert_exporter": "python",
   "pygments_lexer": "ipython3",
   "version": "3.10.12"
  }
 },
 "nbformat": 4,
 "nbformat_minor": 2
}
