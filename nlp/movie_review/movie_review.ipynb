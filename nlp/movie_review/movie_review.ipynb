{
 "cells": [
  {
   "cell_type": "markdown",
   "metadata": {},
   "source": [
    "# Sentimental classfication"
   ]
  },
  {
   "cell_type": "code",
   "execution_count": 49,
   "metadata": {},
   "outputs": [
    {
     "name": "stdout",
     "output_type": "stream",
     "text": [
      "Index(['review', 'sentiment'], dtype='object')\n"
     ]
    },
    {
     "data": {
      "text/html": [
       "<div>\n",
       "<style scoped>\n",
       "    .dataframe tbody tr th:only-of-type {\n",
       "        vertical-align: middle;\n",
       "    }\n",
       "\n",
       "    .dataframe tbody tr th {\n",
       "        vertical-align: top;\n",
       "    }\n",
       "\n",
       "    .dataframe thead th {\n",
       "        text-align: right;\n",
       "    }\n",
       "</style>\n",
       "<table border=\"1\" class=\"dataframe\">\n",
       "  <thead>\n",
       "    <tr style=\"text-align: right;\">\n",
       "      <th></th>\n",
       "      <th>No</th>\n",
       "      <th>review</th>\n",
       "      <th>sentiment</th>\n",
       "    </tr>\n",
       "  </thead>\n",
       "  <tbody>\n",
       "    <tr>\n",
       "      <th>0</th>\n",
       "      <td>1</td>\n",
       "      <td>Movie was boring</td>\n",
       "      <td>Negative</td>\n",
       "    </tr>\n",
       "    <tr>\n",
       "      <th>1</th>\n",
       "      <td>2</td>\n",
       "      <td>Movie actions were very good</td>\n",
       "      <td>Positive</td>\n",
       "    </tr>\n",
       "    <tr>\n",
       "      <th>2</th>\n",
       "      <td>3</td>\n",
       "      <td>Movie was good</td>\n",
       "      <td>Positive</td>\n",
       "    </tr>\n",
       "    <tr>\n",
       "      <th>3</th>\n",
       "      <td>4</td>\n",
       "      <td>Movie story was very bad</td>\n",
       "      <td>Negative</td>\n",
       "    </tr>\n",
       "  </tbody>\n",
       "</table>\n",
       "</div>"
      ],
      "text/plain": [
       "   No                        review sentiment\n",
       "0   1              Movie was boring  Negative\n",
       "1   2  Movie actions were very good  Positive\n",
       "2   3                Movie was good  Positive\n",
       "3   4      Movie story was very bad  Negative"
      ]
     },
     "execution_count": 49,
     "metadata": {},
     "output_type": "execute_result"
    }
   ],
   "source": [
    "import pandas as pd\n",
    "\n",
    "df = pd.read_csv('IMDB_Dataset.csv')\n",
    "\n",
    "print(df.columns)\n",
    "\n",
    "data = {\n",
    "    \"No\": [1, 2, 3, 4],\n",
    "    \"review\": [\n",
    "        \"Movie was boring\",\n",
    "        \"Movie actions were very good\",\n",
    "        \"Movie was good\",\n",
    "        \"Movie story was very bad\"\n",
    "    ],\n",
    "    \"sentiment\": [\"Negative\", \"Positive\", \"Positive\", \"Negative\"]\n",
    "}\n",
    "\n",
    "# Create DataFrame\n",
    "df = pd.DataFrame(data)\n",
    "\n",
    "df "
   ]
  },
  {
   "cell_type": "markdown",
   "metadata": {},
   "source": [
    "Getting the vocabulary from the unique values from the text input"
   ]
  },
  {
   "cell_type": "code",
   "execution_count": 50,
   "metadata": {},
   "outputs": [
    {
     "name": "stdout",
     "output_type": "stream",
     "text": [
      "Voculary: ['Movie' 'was' 'boring' 'very' 'good' 'actions' 'were' 'bad' 'story']\n",
      "Vocabulary size: 9\n"
     ]
    }
   ],
   "source": [
    "sent_tokens = df.review.map(lambda x: set(x.split(' ')))\n",
    "vocab = sent_tokens.explode().unique()\n",
    "print(f'Voculary: {vocab}')\n",
    "print(f'Vocabulary size: {vocab.shape[0]}')"
   ]
  },
  {
   "cell_type": "markdown",
   "metadata": {},
   "source": [
    "Assiging index values to each unique words in the vocabulary"
   ]
  },
  {
   "cell_type": "code",
   "execution_count": 51,
   "metadata": {},
   "outputs": [
    {
     "data": {
      "text/plain": [
       "{'Movie': 0,\n",
       " 'was': 1,\n",
       " 'boring': 2,\n",
       " 'very': 3,\n",
       " 'good': 4,\n",
       " 'actions': 5,\n",
       " 'were': 6,\n",
       " 'bad': 7,\n",
       " 'story': 8}"
      ]
     },
     "execution_count": 51,
     "metadata": {},
     "output_type": "execute_result"
    }
   ],
   "source": [
    "word_index = {}\n",
    "for index , words in enumerate(vocab):\n",
    "    word_index[words] = index\n",
    "\n",
    "word_index"
   ]
  },
  {
   "cell_type": "markdown",
   "metadata": {},
   "source": [
    "Assigning index values for each words in the sentences , therby converting text into vector representation"
   ]
  },
  {
   "cell_type": "code",
   "execution_count": 52,
   "metadata": {},
   "outputs": [
    {
     "name": "stdout",
     "output_type": "stream",
     "text": [
      "Sentences string representation\n",
      "0                  {Movie, was, boring}\n",
      "1    {Movie, very, good, actions, were}\n",
      "2                    {Movie, was, good}\n",
      "3        {was, Movie, bad, very, story}\n",
      "Name: review, dtype: object\n",
      "Sentences number representation\n",
      "0          [0, 1, 2]\n",
      "1    [0, 3, 4, 5, 6]\n",
      "2          [0, 1, 4]\n",
      "3    [1, 0, 7, 3, 8]\n",
      "Name: review, dtype: object\n"
     ]
    }
   ],
   "source": [
    "sent_indices = sent_tokens.map(lambda x: [word_index[word] for word in x])\n",
    "\n",
    "print('Sentences string representation') \n",
    "print(sent_tokens)\n",
    "\n",
    "print('Sentences number representation')\n",
    "print(sent_indices)"
   ]
  },
  {
   "cell_type": "markdown",
   "metadata": {},
   "source": [
    "Converting postive and negatives to 1 and 0 respectively"
   ]
  },
  {
   "cell_type": "code",
   "execution_count": 53,
   "metadata": {},
   "outputs": [
    {
     "data": {
      "text/plain": [
       "0    0\n",
       "1    1\n",
       "2    1\n",
       "3    0\n",
       "Name: sentiment, dtype: int64"
      ]
     },
     "execution_count": 53,
     "metadata": {},
     "output_type": "execute_result"
    }
   ],
   "source": [
    "target = df.sentiment.map(lambda x: 1 if x == 'Positive' else 0)\n",
    "target"
   ]
  },
  {
   "cell_type": "markdown",
   "metadata": {},
   "source": [
    "# Model development"
   ]
  },
  {
   "cell_type": "markdown",
   "metadata": {},
   "source": [
    "Weights Initialization"
   ]
  },
  {
   "cell_type": "code",
   "execution_count": 54,
   "metadata": {},
   "outputs": [
    {
     "data": {
      "text/html": [
       "<div>\n",
       "<style scoped>\n",
       "    .dataframe tbody tr th:only-of-type {\n",
       "        vertical-align: middle;\n",
       "    }\n",
       "\n",
       "    .dataframe tbody tr th {\n",
       "        vertical-align: top;\n",
       "    }\n",
       "\n",
       "    .dataframe thead th {\n",
       "        text-align: right;\n",
       "    }\n",
       "</style>\n",
       "<table border=\"1\" class=\"dataframe\">\n",
       "  <thead>\n",
       "    <tr style=\"text-align: right;\">\n",
       "      <th></th>\n",
       "      <th>0</th>\n",
       "      <th>1</th>\n",
       "      <th>2</th>\n",
       "    </tr>\n",
       "  </thead>\n",
       "  <tbody>\n",
       "    <tr>\n",
       "      <th>0</th>\n",
       "      <td>0.057619</td>\n",
       "      <td>-0.018253</td>\n",
       "      <td>0.088108</td>\n",
       "    </tr>\n",
       "    <tr>\n",
       "      <th>1</th>\n",
       "      <td>0.099659</td>\n",
       "      <td>-0.084616</td>\n",
       "      <td>-0.073206</td>\n",
       "    </tr>\n",
       "    <tr>\n",
       "      <th>2</th>\n",
       "      <td>0.077606</td>\n",
       "      <td>0.061302</td>\n",
       "      <td>-0.073075</td>\n",
       "    </tr>\n",
       "    <tr>\n",
       "      <th>3</th>\n",
       "      <td>0.045457</td>\n",
       "      <td>-0.061556</td>\n",
       "      <td>0.037043</td>\n",
       "    </tr>\n",
       "    <tr>\n",
       "      <th>4</th>\n",
       "      <td>-0.054673</td>\n",
       "      <td>0.035922</td>\n",
       "      <td>-0.013928</td>\n",
       "    </tr>\n",
       "    <tr>\n",
       "      <th>5</th>\n",
       "      <td>0.083581</td>\n",
       "      <td>-0.078321</td>\n",
       "      <td>0.099894</td>\n",
       "    </tr>\n",
       "    <tr>\n",
       "      <th>6</th>\n",
       "      <td>0.047745</td>\n",
       "      <td>-0.030347</td>\n",
       "      <td>-0.055149</td>\n",
       "    </tr>\n",
       "    <tr>\n",
       "      <th>7</th>\n",
       "      <td>0.079233</td>\n",
       "      <td>-0.066672</td>\n",
       "      <td>0.044566</td>\n",
       "    </tr>\n",
       "    <tr>\n",
       "      <th>8</th>\n",
       "      <td>-0.066443</td>\n",
       "      <td>0.030508</td>\n",
       "      <td>0.037434</td>\n",
       "    </tr>\n",
       "  </tbody>\n",
       "</table>\n",
       "</div>"
      ],
      "text/plain": [
       "          0         1         2\n",
       "0  0.057619 -0.018253  0.088108\n",
       "1  0.099659 -0.084616 -0.073206\n",
       "2  0.077606  0.061302 -0.073075\n",
       "3  0.045457 -0.061556  0.037043\n",
       "4 -0.054673  0.035922 -0.013928\n",
       "5  0.083581 -0.078321  0.099894\n",
       "6  0.047745 -0.030347 -0.055149\n",
       "7  0.079233 -0.066672  0.044566\n",
       "8 -0.066443  0.030508  0.037434"
      ]
     },
     "execution_count": 54,
     "metadata": {},
     "output_type": "execute_result"
    }
   ],
   "source": [
    "import numpy as np\n",
    "\n",
    "hidden_size = 3\n",
    "\n",
    "weights_0_1 = 0.2*np.random.random((len(vocab),hidden_size)) - 0.1\n",
    "weights_1_2 = 0.2*np.random.random((hidden_size,1)) - 0.1\n",
    "\n",
    "pd.DataFrame(weights_0_1)"
   ]
  },
  {
   "cell_type": "markdown",
   "metadata": {},
   "source": [
    "Neural network to compute the sentiments from the reviews"
   ]
  },
  {
   "cell_type": "code",
   "execution_count": 55,
   "metadata": {},
   "outputs": [
    {
     "name": "stdout",
     "output_type": "stream",
     "text": [
      "Iteration: 0, Accuracy: 0.75\n",
      "Iteration: 1, Accuracy: 0.75\n",
      "Iteration: 2, Accuracy: 0.75\n",
      "Iteration: 3, Accuracy: 0.75\n",
      "Iteration: 4, Accuracy: 0.75\n",
      "Iteration: 5, Accuracy: 0.75\n",
      "Iteration: 6, Accuracy: 0.75\n",
      "Iteration: 7, Accuracy: 0.75\n",
      "Iteration: 8, Accuracy: 0.75\n",
      "Iteration: 9, Accuracy: 0.75\n"
     ]
    }
   ],
   "source": [
    "alpha, iteration = 0.1, 10\n",
    "\n",
    "def sigmoid(x):\n",
    "    return 1/(1+np.exp(-x))\n",
    "\n",
    "def neural_network(x,y):\n",
    "\n",
    "    global weights_0_1, weights_1_2 \n",
    "\n",
    "    # print(f'Input: len = {len(x)} , data = {x}')\n",
    "\n",
    "    layer_1 = sigmoid(np.sum(weights_0_1[x],axis=0))\n",
    "    # print(f'Layer 1 shape: {layer_1.shape}')\n",
    "    layer_2 = sigmoid(np.dot(layer_1,weights_1_2))\n",
    "    \n",
    "    layer_2_delta = layer_2 - y\n",
    "    # print(f'weights_1_2 shape: {weights_1_2.T.shape}')\n",
    "\n",
    "    layer_1_delta = layer_2_delta.dot(weights_1_2.T)  \n",
    "    # print(f'layer_1_delta shape: {layer_1_delta.shape}')\n",
    "\n",
    "    weights_1_2 -= np.outer(layer_1 , layer_2_delta) * alpha\n",
    "    weights_0_1[x] -= layer_1_delta * alpha\n",
    "\n",
    "    return layer_2\n",
    "\n",
    "correct , total = 0, 0\n",
    "for i in range(iteration):\n",
    "    for x,y in zip(sent_indices,target):\n",
    "        output = neural_network(x,y)\n",
    "\n",
    "        # print(np.abs(output))\n",
    "        correct += 1 if np.abs(output) < 0.5 else 0\n",
    "        total += 1\n",
    "\n",
    "    print(f'Iteration: {i}, Accuracy: {correct/total}')\n",
    "    correct , total = 0, 0\n"
   ]
  },
  {
   "cell_type": "markdown",
   "metadata": {},
   "source": [
    "Display emebeding matrix"
   ]
  },
  {
   "cell_type": "code",
   "execution_count": 56,
   "metadata": {},
   "outputs": [
    {
     "data": {
      "text/html": [
       "<div>\n",
       "<style scoped>\n",
       "    .dataframe tbody tr th:only-of-type {\n",
       "        vertical-align: middle;\n",
       "    }\n",
       "\n",
       "    .dataframe tbody tr th {\n",
       "        vertical-align: top;\n",
       "    }\n",
       "\n",
       "    .dataframe thead th {\n",
       "        text-align: right;\n",
       "    }\n",
       "</style>\n",
       "<table border=\"1\" class=\"dataframe\">\n",
       "  <thead>\n",
       "    <tr style=\"text-align: right;\">\n",
       "      <th></th>\n",
       "      <th>0</th>\n",
       "      <th>1</th>\n",
       "      <th>2</th>\n",
       "    </tr>\n",
       "  </thead>\n",
       "  <tbody>\n",
       "    <tr>\n",
       "      <th>0</th>\n",
       "      <td>0.030734</td>\n",
       "      <td>-0.043743</td>\n",
       "      <td>0.063561</td>\n",
       "    </tr>\n",
       "    <tr>\n",
       "      <th>1</th>\n",
       "      <td>0.066739</td>\n",
       "      <td>-0.048122</td>\n",
       "      <td>-0.099999</td>\n",
       "    </tr>\n",
       "    <tr>\n",
       "      <th>2</th>\n",
       "      <td>0.058181</td>\n",
       "      <td>0.109333</td>\n",
       "      <td>-0.087069</td>\n",
       "    </tr>\n",
       "    <tr>\n",
       "      <th>3</th>\n",
       "      <td>0.018125</td>\n",
       "      <td>-0.085194</td>\n",
       "      <td>0.010550</td>\n",
       "    </tr>\n",
       "    <tr>\n",
       "      <th>4</th>\n",
       "      <td>-0.028766</td>\n",
       "      <td>-0.075945</td>\n",
       "      <td>0.004259</td>\n",
       "    </tr>\n",
       "    <tr>\n",
       "      <th>5</th>\n",
       "      <td>0.089616</td>\n",
       "      <td>-0.140305</td>\n",
       "      <td>0.102141</td>\n",
       "    </tr>\n",
       "    <tr>\n",
       "      <th>6</th>\n",
       "      <td>0.053780</td>\n",
       "      <td>-0.092331</td>\n",
       "      <td>-0.052901</td>\n",
       "    </tr>\n",
       "    <tr>\n",
       "      <th>7</th>\n",
       "      <td>0.045867</td>\n",
       "      <td>-0.028326</td>\n",
       "      <td>0.015826</td>\n",
       "    </tr>\n",
       "    <tr>\n",
       "      <th>8</th>\n",
       "      <td>-0.099810</td>\n",
       "      <td>0.068853</td>\n",
       "      <td>0.008695</td>\n",
       "    </tr>\n",
       "  </tbody>\n",
       "</table>\n",
       "</div>"
      ],
      "text/plain": [
       "          0         1         2\n",
       "0  0.030734 -0.043743  0.063561\n",
       "1  0.066739 -0.048122 -0.099999\n",
       "2  0.058181  0.109333 -0.087069\n",
       "3  0.018125 -0.085194  0.010550\n",
       "4 -0.028766 -0.075945  0.004259\n",
       "5  0.089616 -0.140305  0.102141\n",
       "6  0.053780 -0.092331 -0.052901\n",
       "7  0.045867 -0.028326  0.015826\n",
       "8 -0.099810  0.068853  0.008695"
      ]
     },
     "execution_count": 56,
     "metadata": {},
     "output_type": "execute_result"
    }
   ],
   "source": [
    "pd.DataFrame(weights_0_1)"
   ]
  }
 ],
 "metadata": {
  "kernelspec": {
   "display_name": ".venv",
   "language": "python",
   "name": "python3"
  },
  "language_info": {
   "codemirror_mode": {
    "name": "ipython",
    "version": 3
   },
   "file_extension": ".py",
   "mimetype": "text/x-python",
   "name": "python",
   "nbconvert_exporter": "python",
   "pygments_lexer": "ipython3",
   "version": "3.11.11"
  }
 },
 "nbformat": 4,
 "nbformat_minor": 2
}
