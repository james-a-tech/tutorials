{
 "cells": [
  {
   "cell_type": "markdown",
   "metadata": {},
   "source": [
    "# Perceptron unable to fit XOR table "
   ]
  },
  {
   "cell_type": "code",
   "execution_count": 14,
   "metadata": {},
   "outputs": [
    {
     "data": {
      "text/html": [
       "<div>\n",
       "<style scoped>\n",
       "    .dataframe tbody tr th:only-of-type {\n",
       "        vertical-align: middle;\n",
       "    }\n",
       "\n",
       "    .dataframe tbody tr th {\n",
       "        vertical-align: top;\n",
       "    }\n",
       "\n",
       "    .dataframe thead th {\n",
       "        text-align: right;\n",
       "    }\n",
       "</style>\n",
       "<table border=\"1\" class=\"dataframe\">\n",
       "  <thead>\n",
       "    <tr style=\"text-align: right;\">\n",
       "      <th></th>\n",
       "      <th>x1</th>\n",
       "      <th>x2</th>\n",
       "      <th>y</th>\n",
       "    </tr>\n",
       "  </thead>\n",
       "  <tbody>\n",
       "    <tr>\n",
       "      <th>0</th>\n",
       "      <td>0</td>\n",
       "      <td>0</td>\n",
       "      <td>0</td>\n",
       "    </tr>\n",
       "    <tr>\n",
       "      <th>1</th>\n",
       "      <td>0</td>\n",
       "      <td>1</td>\n",
       "      <td>1</td>\n",
       "    </tr>\n",
       "    <tr>\n",
       "      <th>2</th>\n",
       "      <td>1</td>\n",
       "      <td>0</td>\n",
       "      <td>1</td>\n",
       "    </tr>\n",
       "    <tr>\n",
       "      <th>3</th>\n",
       "      <td>1</td>\n",
       "      <td>1</td>\n",
       "      <td>0</td>\n",
       "    </tr>\n",
       "  </tbody>\n",
       "</table>\n",
       "</div>"
      ],
      "text/plain": [
       "   x1  x2  y\n",
       "0   0   0  0\n",
       "1   0   1  1\n",
       "2   1   0  1\n",
       "3   1   1  0"
      ]
     },
     "execution_count": 14,
     "metadata": {},
     "output_type": "execute_result"
    }
   ],
   "source": [
    "import numpy as np\n",
    "weights = np.array([0.5,0.48,-0.7])\n",
    "alpha = 0.1\n",
    "\n",
    "inputs = np.array([[ 0, 0],\n",
    "                    [ 0, 1],\n",
    "                    [ 1, 0],\n",
    "                    [ 1, 1] ] )\n",
    "ouputs = np.array( [ 0, 1, 1, 0  ] )\n",
    "\n",
    "import pandas as pd\n",
    "# create dataframe using streetlights and walk_vs_stop\n",
    "df = pd.DataFrame({\n",
    "    'x1': inputs[:, 0],\n",
    "    'x2': inputs[:, 1],\n",
    "    'y': ouputs\n",
    "})\n",
    "df"
   ]
  },
  {
   "cell_type": "code",
   "execution_count": 15,
   "metadata": {},
   "outputs": [
    {
     "ename": "ValueError",
     "evalue": "shapes (2,) and (3,) not aligned: 2 (dim 0) != 3 (dim 0)",
     "output_type": "error",
     "traceback": [
      "\u001b[0;31m---------------------------------------------------------------------------\u001b[0m",
      "\u001b[0;31mValueError\u001b[0m                                Traceback (most recent call last)",
      "\u001b[1;32m/home/james/HDD/OneDrive/Cloud/tutorials/5_deep_neural_network.ipynb Cell 3\u001b[0m line \u001b[0;36m2\n\u001b[1;32m     <a href='vscode-notebook-cell:/home/james/HDD/OneDrive/Cloud/tutorials/5_deep_neural_network.ipynb#W4sZmlsZQ%3D%3D?line=23'>24</a>\u001b[0m x \u001b[39m=\u001b[39m inputs[row]\n\u001b[1;32m     <a href='vscode-notebook-cell:/home/james/HDD/OneDrive/Cloud/tutorials/5_deep_neural_network.ipynb#W4sZmlsZQ%3D%3D?line=24'>25</a>\u001b[0m y \u001b[39m=\u001b[39m ouputs[row]\n\u001b[0;32m---> <a href='vscode-notebook-cell:/home/james/HDD/OneDrive/Cloud/tutorials/5_deep_neural_network.ipynb#W4sZmlsZQ%3D%3D?line=26'>27</a>\u001b[0m pred \u001b[39m=\u001b[39m predict(x)\n\u001b[1;32m     <a href='vscode-notebook-cell:/home/james/HDD/OneDrive/Cloud/tutorials/5_deep_neural_network.ipynb#W4sZmlsZQ%3D%3D?line=28'>29</a>\u001b[0m error \u001b[39m=\u001b[39m (pred \u001b[39m-\u001b[39m y) \u001b[39m*\u001b[39m\u001b[39m*\u001b[39m \u001b[39m2\u001b[39m\n\u001b[1;32m     <a href='vscode-notebook-cell:/home/james/HDD/OneDrive/Cloud/tutorials/5_deep_neural_network.ipynb#W4sZmlsZQ%3D%3D?line=29'>30</a>\u001b[0m delta \u001b[39m=\u001b[39m pred \u001b[39m-\u001b[39m y\n",
      "\u001b[1;32m/home/james/HDD/OneDrive/Cloud/tutorials/5_deep_neural_network.ipynb Cell 3\u001b[0m line \u001b[0;36m1\n\u001b[1;32m     <a href='vscode-notebook-cell:/home/james/HDD/OneDrive/Cloud/tutorials/5_deep_neural_network.ipynb#W4sZmlsZQ%3D%3D?line=16'>17</a>\u001b[0m \u001b[39mdef\u001b[39;00m \u001b[39mpredict\u001b[39m(x):\n\u001b[0;32m---> <a href='vscode-notebook-cell:/home/james/HDD/OneDrive/Cloud/tutorials/5_deep_neural_network.ipynb#W4sZmlsZQ%3D%3D?line=17'>18</a>\u001b[0m     \u001b[39mreturn\u001b[39;00m np\u001b[39m.\u001b[39;49mdot(x, weights)\n",
      "\u001b[0;31mValueError\u001b[0m: shapes (2,) and (3,) not aligned: 2 (dim 0) != 3 (dim 0)"
     ]
    }
   ],
   "source": [
    "import numpy as np\n",
    "import plotly.graph_objects as go\n",
    "\n",
    "# XOR data\n",
    "inputs = np.array([[0, 0], [1, 0], [0, 1], [1, 1]])\n",
    "ouputs = np.array([0, 1, 1, 0])\n",
    "\n",
    "np.random.seed(1)\n",
    "# weights = np.random.random(2)\n",
    "alpha = 0.001\n",
    "\n",
    "overall_error = 0\n",
    "iteration_x = []\n",
    "error_y = []\n",
    "\n",
    "# Function to calculate the model's prediction\n",
    "def predict(x):\n",
    "    return np.dot(x, weights)\n",
    "\n",
    "# Iterating over training iterations\n",
    "for iteration in range(500):\n",
    "    overall_error = 0\n",
    "    for row in range(len(inputs)):\n",
    "        x = inputs[row]\n",
    "        y = ouputs[row]\n",
    "\n",
    "        pred = predict(x)\n",
    "\n",
    "        error = (pred - y) ** 2\n",
    "        delta = pred - y\n",
    "        weighted_delta = delta * x\n",
    "        weights = weights - weighted_delta * alpha\n",
    "\n",
    "        overall_error = overall_error + error\n",
    "\n",
    "    error_y.append(overall_error)\n",
    "    iteration_x.append(iteration)\n",
    "\n",
    "# Plotting the XOR data points\n",
    "xor_fig = go.Figure(data=[go.Scatter(x=inputs[:, 0], y=inputs[:, 1], mode='markers', marker=dict(color=ouputs, colorscale='Viridis'))])\n",
    "\n",
    "# Adding the decision boundary\n",
    "x_boundary = np.linspace(-0.5, 1.5, 100)\n",
    "y_boundary = (-weights[0] * x_boundary) / weights[1]\n",
    "xor_fig.add_trace(go.Scatter(x=x_boundary, y=y_boundary, mode='lines', name='Decision Boundary'))\n",
    "\n",
    "# Adding layout and display\n",
    "xor_fig.update_layout(title='XOR Data with Decision Boundary', xaxis=dict(title='x1'), yaxis=dict(title='x2'))\n",
    "xor_fig.show()\n",
    "\n",
    "# Plotting the error curve\n",
    "error_fig = go.Figure(data=[go.Scatter(x=iteration_x, y=error_y, mode='markers')])\n",
    "error_fig.update_layout(title='Error Curve', xaxis=dict(title='Iteration'), yaxis=dict(title='Error'))\n",
    "error_fig.show()"
   ]
  }
 ],
 "metadata": {
  "kernelspec": {
   "display_name": "Learning",
   "language": "python",
   "name": "python3"
  },
  "language_info": {
   "codemirror_mode": {
    "name": "ipython",
    "version": 3
   },
   "file_extension": ".py",
   "mimetype": "text/x-python",
   "name": "python",
   "nbconvert_exporter": "python",
   "pygments_lexer": "ipython3",
   "version": "3.10.12"
  }
 },
 "nbformat": 4,
 "nbformat_minor": 2
}
